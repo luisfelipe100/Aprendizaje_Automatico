{
  "cells": [
    {
      "cell_type": "code",
      "execution_count": null,
      "metadata": {
        "id": "FiNGXGRxWQMs"
      },
      "outputs": [],
      "source": [
        "# Definir conjunto de datos sobre los que se trabajará en curso.\n",
        "\n",
        "\n",
        "# El conjunto de datos con el que se va a trabajar representa un listado de distintos vehículos que circulan en México, junto\n",
        "# con sus características, consumo de gasolina y emisiones de CO2.\n",
        "\n",
        "# Los datos fueron compartidos por un usuario en la plataforma de Kaggle:\n",
        "# https://www.kaggle.com/datasets/checoalejandro/autos-consumo-gasolina-mexico\n",
        "\n",
        "\n"
      ]
    },
    {
      "cell_type": "code",
      "execution_count": null,
      "metadata": {},
      "outputs": [],
      "source": [
        "# Justificar su elección.\n",
        "\n",
        "\n",
        "# Se pretende hacer un análisis predictivo del nivel de contaminante que emiten los vehículos en base a algunas de sus características \n",
        "# que se sospecha podrían influenciar en su eficiencia y consumo de combustible, y por consecuencia en la cantidad de dióxido de carbono (CO2) \n",
        "# que emiten.\n",
        "\n",
        "# Ya se ha trabajado con este conjunto de datos para la asignatura de Métodos Estadísticos Básicos, en donde se intentó hacer una regresión lineal\n",
        "# múltiple. Aunque el desempeño del modelo fue bueno (R^2 de 0.91), no se cumplieron algunos de los supuestos como varianza constante en los residuales,\n",
        "# residuales no correlacionados y normalmente distribuidos. Se sospecha que empleando otros métodos o haciendo ajustes a la información se podría\n",
        "# llegar a obtener un mejor modelo. "
      ]
    },
    {
      "cell_type": "code",
      "execution_count": null,
      "metadata": {},
      "outputs": [],
      "source": [
        "# Establecer objetivos a lograr en el curso.\n",
        "\n",
        "# Emplear un método estadístico para reducir la correlación entre variables, tal como Análisis de Componentes Principales.\n",
        "# Revisar si hay variables en las que se puedan realizar agrupaciones (Cluster Analysis).\n",
        "# Llegar a un modelo que sea más adecuado para la predicción de emisiones de CO2 en base a las características del auto:\n",
        "# Marca, Modelo Transmision, Cilindros, Potencia, Hibrido, Categoria, Rendimiento."
      ]
    }
  ],
  "metadata": {
    "colab": {
      "provenance": []
    },
    "kernelspec": {
      "display_name": "Python 3",
      "name": "python3"
    },
    "language_info": {
      "name": "python"
    }
  },
  "nbformat": 4,
  "nbformat_minor": 0
}
