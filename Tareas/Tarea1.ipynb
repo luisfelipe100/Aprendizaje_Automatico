{
  "nbformat": 4,
  "nbformat_minor": 0,
  "metadata": {
    "colab": {
      "provenance": []
    },
    "kernelspec": {
      "name": "python3",
      "display_name": "Python 3"
    },
    "language_info": {
      "name": "python"
    }
  },
  "cells": [
    {
      "cell_type": "code",
      "execution_count": null,
      "metadata": {
        "id": "FiNGXGRxWQMs"
      },
      "outputs": [],
      "source": [
        "# Definir conjunto de datos sobre los que se trabajará en curso.\n",
        "\n",
        "\n",
        "# Justificar su elección.\n",
        "\n",
        "\n",
        "# Establecer objetivos a lograr en el curso.\n",
        "\n"
      ]
    }
  ]
}