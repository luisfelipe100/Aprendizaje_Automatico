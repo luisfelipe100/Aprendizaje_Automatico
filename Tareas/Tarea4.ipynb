{
 "cells": [
  {
   "cell_type": "markdown",
   "metadata": {},
   "source": [
    "**Tarea en Clase**\n",
    "\n",
    "Aplica algún método de filtro a tus datos mediante el uso de SelectKBest."
   ]
  },
  {
   "cell_type": "code",
   "execution_count": 1,
   "metadata": {},
   "outputs": [],
   "source": [
    "# Leer dataframe con datos\n",
    "import pandas as pd\n",
    "import numpy as np\n",
    "df = pd.read_csv('datos_proc2.csv')"
   ]
  },
  {
   "cell_type": "code",
   "execution_count": 19,
   "metadata": {},
   "outputs": [],
   "source": [
    "# Se emplea SlectKBest mediante regresión F.\n",
    "from sklearn.datasets import load_digits\n",
    "from sklearn.feature_selection import SelectKBest, f_regression\n",
    "\n",
    "# Variables predictivas\n",
    "X = df.drop('CO2(g/km)', axis=1)\n",
    "\n",
    "# Variable objetivo\n",
    "y = df['CO2(g/km)']\n",
    "\n",
    "selector = SelectKBest(f_regression, k=15)\n",
    "X_new = selector.fit_transform(X, y)\n"
   ]
  },
  {
   "cell_type": "code",
   "execution_count": 20,
   "metadata": {},
   "outputs": [
    {
     "data": {
      "text/plain": [
       "array(['Modelo', 'Cilindros', 'Potencia (HP)', 'Tamaño (L)',\n",
       "       'R. Ciudad (km/l)', 'R. Carr. (km/l)', 'R. Comb. (km/l)',\n",
       "       'R. Ajust. (km/l)', 'NOx (g/1000km)', 'Calificación Gas Ef. Inv.',\n",
       "       'Hibrido', 'Marca_Mean_Encoded', 'Submarca_Mean_Encoded',\n",
       "       'Versión_Mean_Encoded', 'Trans._Mean_Encoded',\n",
       "       'Comb._Mean_Encoded', 'Categoría_Mean_Encoded'], dtype=object)"
      ]
     },
     "execution_count": 20,
     "metadata": {},
     "output_type": "execute_result"
    }
   ],
   "source": [
    "# Variables en modelo inicial\n",
    "X.columns.values"
   ]
  },
  {
   "cell_type": "code",
   "execution_count": 21,
   "metadata": {},
   "outputs": [
    {
     "data": {
      "text/plain": [
       "array(['Modelo', 'Cilindros', 'Potencia (HP)', 'Tamaño (L)',\n",
       "       'R. Ciudad (km/l)', 'R. Carr. (km/l)', 'R. Comb. (km/l)',\n",
       "       'R. Ajust. (km/l)', 'Calificación Gas Ef. Inv.', 'Hibrido',\n",
       "       'Marca_Mean_Encoded', 'Submarca_Mean_Encoded',\n",
       "       'Versión_Mean_Encoded', 'Trans._Mean_Encoded',\n",
       "       'Categoría_Mean_Encoded'], dtype=object)"
      ]
     },
     "execution_count": 21,
     "metadata": {},
     "output_type": "execute_result"
    }
   ],
   "source": [
    "# Variables seleccionadas con F Regression\n",
    "X.columns.values[selector.get_support()]"
   ]
  },
  {
   "cell_type": "markdown",
   "metadata": {},
   "source": [
    "Las variables removidas fueron NOx (g/1000km) y Comb._Mean_Encoded"
   ]
  },
  {
   "cell_type": "markdown",
   "metadata": {},
   "source": [
    "**Tarea**\n",
    "\n",
    "- Aplica los modelos de selección de características cuidando los supuestos de cada modelo\n",
    "\n",
    "- Busca una o varias métricas para seleccionar características en literatura relacionada con tu problema (cita tus fuentes)\n",
    "\n",
    "- Con base en tu investigación, determina las características más relevantes de tu conjunto de datos\n",
    "\n",
    "- Discute por qué crees que las características seleccionadas son las más relevantes y por qué el resto quedaron excluidas en la selección"
   ]
  },
  {
   "cell_type": "code",
   "execution_count": 12,
   "metadata": {},
   "outputs": [
    {
     "data": {
      "text/plain": [
       "(array([3.58414072e+02, 8.17152450e+03, 5.47419013e+03, 1.06044739e+04,\n",
       "        1.96436646e+04, 2.12899626e+04, 2.95889586e+04, 2.95985983e+04,\n",
       "        1.95863953e+00, 5.76075662e+04, 5.63006166e+01, 2.95149166e+03,\n",
       "        2.36601599e+04, 4.26766201e+05, 1.03563943e+03, 1.68741141e-01,\n",
       "        1.72887731e+03]),\n",
       " array([4.95456819e-077, 0.00000000e+000, 0.00000000e+000, 0.00000000e+000,\n",
       "        0.00000000e+000, 0.00000000e+000, 0.00000000e+000, 0.00000000e+000,\n",
       "        1.61726338e-001, 0.00000000e+000, 7.42352508e-014, 0.00000000e+000,\n",
       "        0.00000000e+000, 0.00000000e+000, 4.12894255e-205, 6.81252165e-001,\n",
       "        4.50587869e-321]))"
      ]
     },
     "execution_count": 12,
     "metadata": {},
     "output_type": "execute_result"
    }
   ],
   "source": [
    "# Aplicación de ANOVA de valor F\n",
    "\n",
    "import matplotlib.pyplot as plt\n",
    "f_value = f_regression(X, y)\n",
    "# Regresa arreglo de estadístico F y valor p\n",
    "f_value"
   ]
  },
  {
   "cell_type": "code",
   "execution_count": 13,
   "metadata": {},
   "outputs": [
    {
     "name": "stdout",
     "output_type": "stream",
     "text": [
      "Modelo 4.954568194225837e-77\n",
      "Cilindros 0.0\n",
      "Potencia (HP) 0.0\n",
      "Tamaño (L) 0.0\n",
      "R. Ciudad (km/l) 0.0\n",
      "R. Carr. (km/l) 0.0\n",
      "R. Comb. (km/l) 0.0\n",
      "R. Ajust. (km/l) 0.0\n",
      "NOx (g/1000km) 0.16172633776380552\n",
      "Calificación Gas Ef. Inv. 0.0\n",
      "Hibrido 7.423525080071919e-14\n",
      "Marca_Mean_Encoded 0.0\n",
      "Submarca_Mean_Encoded 0.0\n",
      "Versión_Mean_Encoded 0.0\n",
      "Trans._Mean_Encoded 4.12894254703173e-205\n",
      "Comb._Mean_Encoded 0.6812521646676388\n",
      "Categoría_Mean_Encoded 4.506e-321\n"
     ]
    }
   ],
   "source": [
    "pass_test = []\n",
    "not_pass_test = []\n",
    "alpha = 0.05\n",
    "for i in range(len(f_value[1])):\n",
    "    print(X.columns[i], f_value[1][i])\n",
    "    if f_value[1][i] < alpha:\n",
    "        pass_test.append(X.columns[i])\n",
    "    else:\n",
    "        not_pass_test.append(X.columns[i])"
   ]
  },
  {
   "cell_type": "code",
   "execution_count": 14,
   "metadata": {},
   "outputs": [
    {
     "data": {
      "text/html": [
       "<div>\n",
       "<style scoped>\n",
       "    .dataframe tbody tr th:only-of-type {\n",
       "        vertical-align: middle;\n",
       "    }\n",
       "\n",
       "    .dataframe tbody tr th {\n",
       "        vertical-align: top;\n",
       "    }\n",
       "\n",
       "    .dataframe thead th {\n",
       "        text-align: right;\n",
       "    }\n",
       "</style>\n",
       "<table border=\"1\" class=\"dataframe\">\n",
       "  <thead>\n",
       "    <tr style=\"text-align: right;\">\n",
       "      <th></th>\n",
       "      <th>f_value</th>\n",
       "    </tr>\n",
       "  </thead>\n",
       "  <tbody>\n",
       "    <tr>\n",
       "      <th>Versión_Mean_Encoded</th>\n",
       "      <td>426766.200675</td>\n",
       "    </tr>\n",
       "    <tr>\n",
       "      <th>Calificación Gas Ef. Inv.</th>\n",
       "      <td>57607.566185</td>\n",
       "    </tr>\n",
       "    <tr>\n",
       "      <th>R. Ajust. (km/l)</th>\n",
       "      <td>29598.598327</td>\n",
       "    </tr>\n",
       "    <tr>\n",
       "      <th>R. Comb. (km/l)</th>\n",
       "      <td>29588.958620</td>\n",
       "    </tr>\n",
       "    <tr>\n",
       "      <th>Submarca_Mean_Encoded</th>\n",
       "      <td>23660.159859</td>\n",
       "    </tr>\n",
       "    <tr>\n",
       "      <th>R. Carr. (km/l)</th>\n",
       "      <td>21289.962631</td>\n",
       "    </tr>\n",
       "    <tr>\n",
       "      <th>R. Ciudad (km/l)</th>\n",
       "      <td>19643.664578</td>\n",
       "    </tr>\n",
       "    <tr>\n",
       "      <th>Tamaño (L)</th>\n",
       "      <td>10604.473862</td>\n",
       "    </tr>\n",
       "    <tr>\n",
       "      <th>Cilindros</th>\n",
       "      <td>8171.524502</td>\n",
       "    </tr>\n",
       "    <tr>\n",
       "      <th>Potencia (HP)</th>\n",
       "      <td>5474.190130</td>\n",
       "    </tr>\n",
       "    <tr>\n",
       "      <th>Marca_Mean_Encoded</th>\n",
       "      <td>2951.491657</td>\n",
       "    </tr>\n",
       "    <tr>\n",
       "      <th>Categoría_Mean_Encoded</th>\n",
       "      <td>1728.877313</td>\n",
       "    </tr>\n",
       "    <tr>\n",
       "      <th>Trans._Mean_Encoded</th>\n",
       "      <td>1035.639435</td>\n",
       "    </tr>\n",
       "    <tr>\n",
       "      <th>Modelo</th>\n",
       "      <td>358.414072</td>\n",
       "    </tr>\n",
       "    <tr>\n",
       "      <th>Hibrido</th>\n",
       "      <td>56.300617</td>\n",
       "    </tr>\n",
       "    <tr>\n",
       "      <th>NOx (g/1000km)</th>\n",
       "      <td>1.958640</td>\n",
       "    </tr>\n",
       "    <tr>\n",
       "      <th>Comb._Mean_Encoded</th>\n",
       "      <td>0.168741</td>\n",
       "    </tr>\n",
       "  </tbody>\n",
       "</table>\n",
       "</div>"
      ],
      "text/plain": [
       "                                 f_value\n",
       "Versión_Mean_Encoded       426766.200675\n",
       "Calificación Gas Ef. Inv.   57607.566185\n",
       "R. Ajust. (km/l)            29598.598327\n",
       "R. Comb. (km/l)             29588.958620\n",
       "Submarca_Mean_Encoded       23660.159859\n",
       "R. Carr. (km/l)             21289.962631\n",
       "R. Ciudad (km/l)            19643.664578\n",
       "Tamaño (L)                  10604.473862\n",
       "Cilindros                    8171.524502\n",
       "Potencia (HP)                5474.190130\n",
       "Marca_Mean_Encoded           2951.491657\n",
       "Categoría_Mean_Encoded       1728.877313\n",
       "Trans._Mean_Encoded          1035.639435\n",
       "Modelo                        358.414072\n",
       "Hibrido                        56.300617\n",
       "NOx (g/1000km)                  1.958640\n",
       "Comb._Mean_Encoded              0.168741"
      ]
     },
     "execution_count": 14,
     "metadata": {},
     "output_type": "execute_result"
    }
   ],
   "source": [
    "df_results = pd.DataFrame(f_value[0], index=X.columns)\n",
    "df_results.columns = ['f_value']\n",
    "df_results.sort_values('f_value', inplace = True, ascending = False)\n",
    "df_results"
   ]
  },
  {
   "cell_type": "code",
   "execution_count": 15,
   "metadata": {},
   "outputs": [
    {
     "data": {
      "image/png": "[encoded data removed]",
      "text/plain": [
       "<Figure size 640x480 with 1 Axes>"
      ]
     },
     "metadata": {},
     "output_type": "display_data"
    }
   ],
   "source": [
    "plt.figure()\n",
    "plt.bar(df_results.drop(not_pass_test).index, df_results.drop(not_pass_test).f_value)\n",
    "plt.xticks(rotation=90)\n",
    "plt.show()"
   ]
  },
  {
   "cell_type": "markdown",
   "metadata": {},
   "source": [
    "Como se había comentado anteriormente en Tarea2, hay muchas categorías de Versión que no permite un análisis al casi tener cada vehículo su propia Versión.\n",
    "Al correr riesgo de tener overfitting la sugerencia es remover el campo Versión_Mean_Encoded."
   ]
  },
  {
   "cell_type": "markdown",
   "metadata": {},
   "source": [
    "- Busca una o varias métricas para seleccionar características en literatura relacionada con tu problema (cita tus fuentes)\n",
    "\n",
    "- Con base en tu investigación, determina las características más relevantes de tu conjunto de datos\n",
    "\n",
    "- Discute por qué crees que las características seleccionadas son las más relevantes y por qué el resto quedaron excluidas en la selección"
   ]
  },
  {
   "cell_type": "markdown",
   "metadata": {},
   "source": [
    "Acorde a una fuente consultada, se tiene el siguiente razonamiento para averiguar cuáles son las principales variables involucradas en la emisión de CO2:\n",
    "\n",
    "\" La cantidad de CO2 emitida, si atendemos únicamente al tipo del vehículo (y no a la forma de conducción), depende de la cantidad de energía necesaria para circular y de la eficiencia del motor. La cantidad de energía necesaria depende del peso del vehículo y de su potencia. Por tanto, a mayor potencia y mayor peso, mayor consumo de combustible y mayores emisiones de CO2.\"\n",
    "\n",
    "Fuente:\n",
    "[Emisiones de CO2 de los vehículos convencionales e híbridos](https://www.ecologistasenaccion.org/16233/2-emisiones-de-co2-de-los-vehiculos-convencionales-e-hibridos/)\n",
    "\n",
    "De esta forma nos damos cuenta que Potencia (HP) es una de las variables que debemos de conservar. Aunque no contamos con el peso del vehículo en nuestra base, contamos con el campo de Categoría, la cual clasifica los vehículos en Autos de Lujo, Compactos, Subcompactos, Camionetas SUV, etc. El tipo de Categoría nos podría ayudar a tener una idea del tamaño del vehículo y por lo tanto del grupo de peso del vehículo al que pertenece. Por lo tanto, otra variable que debieramos conservar es Categoría_Mean_Encoded."
   ]
  },
  {
   "cell_type": "code",
   "execution_count": null,
   "metadata": {},
   "outputs": [],
   "source": []
  }
 ],
 "metadata": {
  "kernelspec": {
   "display_name": "Python 3",
   "language": "python",
   "name": "python3"
  },
  "language_info": {
   "codemirror_mode": {
    "name": "ipython",
    "version": 3
   },
   "file_extension": ".py",
   "mimetype": "text/x-python",
   "name": "python",
   "nbconvert_exporter": "python",
   "pygments_lexer": "ipython3",
   "version": "3.12.4"
  }
 },
 "nbformat": 4,
 "nbformat_minor": 2
}
