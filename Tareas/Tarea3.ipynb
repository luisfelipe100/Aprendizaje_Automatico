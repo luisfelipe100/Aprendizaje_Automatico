{
 "cells": [
  {
   "cell_type": "code",
   "execution_count": 34,
   "metadata": {},
   "outputs": [
    {
     "data": {
      "text/plain": [
       "2.888888888888889"
      ]
     },
     "execution_count": 34,
     "metadata": {},
     "output_type": "execute_result"
    }
   ],
   "source": [
    "####################\n",
    "## Tarea en clase ##\n",
    "####################\n",
    "\n",
    "# Crear funciones para calcular las medidas de tendencia central y de dispersión con Python puro (sin librerías)\n",
    "\n",
    "import statistics\n",
    "\n",
    "# Media\n",
    "def my_mean(X):\n",
    "    suma=0\n",
    "    for x in X:\n",
    "        suma += x\n",
    "    return suma/len(X)\n",
    "    \n",
    "my_mean([1, 1, 2, 2, 2, 3, 4, 5, 6])\n"
   ]
  },
  {
   "cell_type": "code",
   "execution_count": 33,
   "metadata": {},
   "outputs": [
    {
     "data": {
      "text/plain": [
       "2.888888888888889"
      ]
     },
     "execution_count": 33,
     "metadata": {},
     "output_type": "execute_result"
    }
   ],
   "source": [
    "statistics.mean([1, 1, 2, 2, 2, 3, 4, 5, 6])"
   ]
  },
  {
   "cell_type": "code",
   "execution_count": 31,
   "metadata": {},
   "outputs": [
    {
     "data": {
      "text/plain": [
       "2"
      ]
     },
     "execution_count": 31,
     "metadata": {},
     "output_type": "execute_result"
    }
   ],
   "source": [
    "# Mediana\n",
    "def my_median(X):\n",
    "    if len(X) % 2 == 1:\n",
    "        return sorted(X)[int((len(X)-1)/2)]\n",
    "    else:\n",
    "        return my_mean([sorted(X)[int(len(X)/2 - 1)], sorted(X)[int(len(X)/2)]])\n",
    "\n",
    "my_median([1, 1, 2, 2, 2, 3, 4, 5, 6])\n"
   ]
  },
  {
   "cell_type": "code",
   "execution_count": 32,
   "metadata": {},
   "outputs": [
    {
     "data": {
      "text/plain": [
       "2"
      ]
     },
     "execution_count": 32,
     "metadata": {},
     "output_type": "execute_result"
    }
   ],
   "source": [
    "statistics.median([1, 1, 2, 2, 2, 3, 4, 5, 6])"
   ]
  },
  {
   "cell_type": "code",
   "execution_count": 29,
   "metadata": {},
   "outputs": [
    {
     "data": {
      "text/plain": [
       "2"
      ]
     },
     "execution_count": 29,
     "metadata": {},
     "output_type": "execute_result"
    }
   ],
   "source": [
    "# Moda\n",
    "def my_mode(X):\n",
    "    moda = X[0]\n",
    "    contador_max = 1\n",
    "    contador = 1\n",
    "    for i in range(1, len(X)):\n",
    "        if sorted(X)[i]==sorted(X)[i-1]:\n",
    "            contador += 1\n",
    "            if contador > contador_max:\n",
    "                contador_max = contador\n",
    "                moda = sorted(X)[i]\n",
    "        else:\n",
    "            contador = 1\n",
    "    return moda\n",
    "            \n",
    "my_mode([1, 1, 2, 2, 2, 3, 4, 5, 6])"
   ]
  },
  {
   "cell_type": "code",
   "execution_count": 30,
   "metadata": {},
   "outputs": [
    {
     "data": {
      "text/plain": [
       "2"
      ]
     },
     "execution_count": 30,
     "metadata": {},
     "output_type": "execute_result"
    }
   ],
   "source": [
    "statistics.mode([1, 1, 2, 2, 2, 3, 4, 5, 6])"
   ]
  },
  {
   "cell_type": "code",
   "execution_count": 36,
   "metadata": {},
   "outputs": [
    {
     "data": {
      "text/plain": [
       "3.111111111111111"
      ]
     },
     "execution_count": 36,
     "metadata": {},
     "output_type": "execute_result"
    }
   ],
   "source": [
    "# Varianza\n",
    "def my_variance(X):\n",
    "    squared_dev_sum = 0\n",
    "    for x in X:\n",
    "        squared_dev_sum += (x - my_mean(X))**2\n",
    "    return squared_dev_sum/(len(X)-1)\n",
    "\n",
    "my_variance([1, 1, 2, 2, 2, 3, 4, 5, 6])"
   ]
  },
  {
   "cell_type": "code",
   "execution_count": 37,
   "metadata": {},
   "outputs": [
    {
     "data": {
      "text/plain": [
       "3.111111111111111"
      ]
     },
     "execution_count": 37,
     "metadata": {},
     "output_type": "execute_result"
    }
   ],
   "source": [
    "statistics.variance([1, 1, 2, 2, 2, 3, 4, 5, 6])"
   ]
  },
  {
   "cell_type": "code",
   "execution_count": 38,
   "metadata": {},
   "outputs": [
    {
     "data": {
      "text/plain": [
       "1.7638342073763937"
      ]
     },
     "execution_count": 38,
     "metadata": {},
     "output_type": "execute_result"
    }
   ],
   "source": [
    "# Desviación Estándar\n",
    "def my_sd(X):\n",
    "    return (my_variance(X))**0.5\n",
    "\n",
    "my_sd([1, 1, 2, 2, 2, 3, 4, 5, 6])"
   ]
  },
  {
   "cell_type": "code",
   "execution_count": 39,
   "metadata": {},
   "outputs": [
    {
     "data": {
      "text/plain": [
       "1.7638342073763937"
      ]
     },
     "execution_count": 39,
     "metadata": {},
     "output_type": "execute_result"
    }
   ],
   "source": [
    "statistics.stdev([1, 1, 2, 2, 2, 3, 4, 5, 6])"
   ]
  },
  {
   "cell_type": "code",
   "execution_count": null,
   "metadata": {},
   "outputs": [],
   "source": [
    "# Comprueba si tus variables de interés son conjuntos de datos paramétricos o no paramétricos\n",
    "\n",
    "# Aún no identifico ninguna variable paramétrica."
   ]
  }
 ],
 "metadata": {
  "language_info": {
   "name": "python"
  }
 },
 "nbformat": 4,
 "nbformat_minor": 2
}
