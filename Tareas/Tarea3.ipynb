{
 "cells": [
  {
   "cell_type": "code",
   "execution_count": 34,
   "metadata": {},
   "outputs": [
    {
     "data": {
      "text/plain": [
       "2.888888888888889"
      ]
     },
     "execution_count": 34,
     "metadata": {},
     "output_type": "execute_result"
    }
   ],
   "source": [
    "####################\n",
    "## Tarea en clase ##\n",
    "####################\n",
    "\n",
    "# Crear funciones para calcular las medidas de tendencia central y de dispersión con Python puro (sin librerías)\n",
    "\n",
    "import statistics\n",
    "\n",
    "# Media\n",
    "def my_mean(X):\n",
    "    suma=0\n",
    "    for x in X:\n",
    "        suma += x\n",
    "    return suma/len(X)\n",
    "    \n",
    "my_mean([1, 1, 2, 2, 2, 3, 4, 5, 6])\n"
   ]
  },
  {
   "cell_type": "code",
   "execution_count": 33,
   "metadata": {},
   "outputs": [
    {
     "data": {
      "text/plain": [
       "2.888888888888889"
      ]
     },
     "execution_count": 33,
     "metadata": {},
     "output_type": "execute_result"
    }
   ],
   "source": [
    "statistics.mean([1, 1, 2, 2, 2, 3, 4, 5, 6])"
   ]
  },
  {
   "cell_type": "code",
   "execution_count": 31,
   "metadata": {},
   "outputs": [
    {
     "data": {
      "text/plain": [
       "2"
      ]
     },
     "execution_count": 31,
     "metadata": {},
     "output_type": "execute_result"
    }
   ],
   "source": [
    "# Mediana\n",
    "def my_median(X):\n",
    "    if len(X) % 2 == 1:\n",
    "        return sorted(X)[int((len(X)-1)/2)]\n",
    "    else:\n",
    "        return my_mean([sorted(X)[int(len(X)/2 - 1)], sorted(X)[int(len(X)/2)]])\n",
    "\n",
    "my_median([1, 1, 2, 2, 2, 3, 4, 5, 6])\n"
   ]
  },
  {
   "cell_type": "code",
   "execution_count": 32,
   "metadata": {},
   "outputs": [
    {
     "data": {
      "text/plain": [
       "2"
      ]
     },
     "execution_count": 32,
     "metadata": {},
     "output_type": "execute_result"
    }
   ],
   "source": [
    "statistics.median([1, 1, 2, 2, 2, 3, 4, 5, 6])"
   ]
  },
  {
   "cell_type": "code",
   "execution_count": 29,
   "metadata": {},
   "outputs": [
    {
     "data": {
      "text/plain": [
       "2"
      ]
     },
     "execution_count": 29,
     "metadata": {},
     "output_type": "execute_result"
    }
   ],
   "source": [
    "# Moda\n",
    "def my_mode(X):\n",
    "    moda = X[0]\n",
    "    contador_max = 1\n",
    "    contador = 1\n",
    "    for i in range(1, len(X)):\n",
    "        if sorted(X)[i]==sorted(X)[i-1]:\n",
    "            contador += 1\n",
    "            if contador > contador_max:\n",
    "                contador_max = contador\n",
    "                moda = sorted(X)[i]\n",
    "        else:\n",
    "            contador = 1\n",
    "    return moda\n",
    "            \n",
    "my_mode([1, 1, 2, 2, 2, 3, 4, 5, 6])"
   ]
  },
  {
   "cell_type": "code",
   "execution_count": 30,
   "metadata": {},
   "outputs": [
    {
     "data": {
      "text/plain": [
       "2"
      ]
     },
     "execution_count": 30,
     "metadata": {},
     "output_type": "execute_result"
    }
   ],
   "source": [
    "statistics.mode([1, 1, 2, 2, 2, 3, 4, 5, 6])"
   ]
  },
  {
   "cell_type": "code",
   "execution_count": 36,
   "metadata": {},
   "outputs": [
    {
     "data": {
      "text/plain": [
       "3.111111111111111"
      ]
     },
     "execution_count": 36,
     "metadata": {},
     "output_type": "execute_result"
    }
   ],
   "source": [
    "# Varianza\n",
    "def my_variance(X):\n",
    "    squared_dev_sum = 0\n",
    "    for x in X:\n",
    "        squared_dev_sum += (x - my_mean(X))**2\n",
    "    return squared_dev_sum/(len(X)-1)\n",
    "\n",
    "my_variance([1, 1, 2, 2, 2, 3, 4, 5, 6])"
   ]
  },
  {
   "cell_type": "code",
   "execution_count": 37,
   "metadata": {},
   "outputs": [
    {
     "data": {
      "text/plain": [
       "3.111111111111111"
      ]
     },
     "execution_count": 37,
     "metadata": {},
     "output_type": "execute_result"
    }
   ],
   "source": [
    "statistics.variance([1, 1, 2, 2, 2, 3, 4, 5, 6])"
   ]
  },
  {
   "cell_type": "code",
   "execution_count": 38,
   "metadata": {},
   "outputs": [
    {
     "data": {
      "text/plain": [
       "1.7638342073763937"
      ]
     },
     "execution_count": 38,
     "metadata": {},
     "output_type": "execute_result"
    }
   ],
   "source": [
    "# Desviación Estándar\n",
    "def my_sd(X):\n",
    "    return (my_variance(X))**0.5\n",
    "\n",
    "my_sd([1, 1, 2, 2, 2, 3, 4, 5, 6])"
   ]
  },
  {
   "cell_type": "code",
   "execution_count": 39,
   "metadata": {},
   "outputs": [
    {
     "data": {
      "text/plain": [
       "1.7638342073763937"
      ]
     },
     "execution_count": 39,
     "metadata": {},
     "output_type": "execute_result"
    }
   ],
   "source": [
    "statistics.stdev([1, 1, 2, 2, 2, 3, 4, 5, 6])"
   ]
  },
  {
   "cell_type": "code",
   "execution_count": 2,
   "metadata": {},
   "outputs": [
    {
     "name": "stdout",
     "output_type": "stream",
     "text": [
      "Modelo\n",
      "Statistics=0.923, p=0.000\n",
      "Sample does not look Gaussian (reject H0)\n",
      "\n",
      "Cilindros\n",
      "Statistics=0.756, p=0.000\n",
      "Sample does not look Gaussian (reject H0)\n",
      "\n",
      "Potencia (HP)\n",
      "Statistics=0.921, p=0.000\n",
      "Sample does not look Gaussian (reject H0)\n",
      "\n",
      "Tamaño (L)\n",
      "Statistics=0.893, p=0.000\n",
      "Sample does not look Gaussian (reject H0)\n",
      "\n",
      "R. Ciudad (km/l)\n",
      "Statistics=0.982, p=0.000\n",
      "Sample does not look Gaussian (reject H0)\n",
      "\n",
      "R. Carr. (km/l)\n",
      "Statistics=0.992, p=0.000\n",
      "Sample does not look Gaussian (reject H0)\n",
      "\n",
      "R. Comb. (km/l)\n",
      "Statistics=0.986, p=0.000\n",
      "Sample does not look Gaussian (reject H0)\n",
      "\n",
      "R. Ajust. (km/l)\n",
      "Statistics=0.986, p=0.000\n",
      "Sample does not look Gaussian (reject H0)\n",
      "\n",
      "CO2(g/km)\n",
      "Statistics=0.937, p=0.000\n",
      "Sample does not look Gaussian (reject H0)\n",
      "\n",
      "NOx (g/1000km)\n",
      "Statistics=0.394, p=0.000\n",
      "Sample does not look Gaussian (reject H0)\n",
      "\n",
      "Calificación Gas Ef. Inv.\n",
      "Statistics=0.938, p=0.000\n",
      "Sample does not look Gaussian (reject H0)\n",
      "\n",
      "Hibrido\n",
      "Statistics=0.068, p=0.000\n",
      "Sample does not look Gaussian (reject H0)\n",
      "\n"
     ]
    }
   ],
   "source": [
    "# Comprueba si tus variables de interés son conjuntos de datos paramétricos o no paramétricos\n",
    "\n",
    "# Realizamos la prueba de Shapiro para revisar normalidad en los datos.\n",
    "\n",
    "# Se crea dataframe sólo con campos numéricos.\n",
    "import pandas as pd\n",
    "import numpy as np\n",
    "df = pd.read_csv('datos.csv')\n",
    "df_numeric = df.select_dtypes(include=np.number)\n",
    "df_num = df_numeric.apply(pd.to_numeric)\n",
    "\n",
    "\n",
    "# Shapiro-Wilk Test\n",
    "from scipy.stats import shapiro\n",
    "\n",
    "# normality test\n",
    "for columna in df_num:\n",
    "\tstat, p = shapiro(df_num[columna])\n",
    "\tprint(columna)\n",
    "\tprint('Statistics=%.3f, p=%.3f' % (stat, p))\n",
    "\t# interpret\n",
    "\talpha = 0.05\n",
    "\tif p > alpha:\n",
    "\t\tprint('Sample looks Gaussian (fail to reject H0)')\n",
    "\telse:\n",
    "\t\tprint('Sample does not look Gaussian (reject H0)')\n",
    "\tprint('')\n",
    "\n",
    "\n",
    "# Se llega a la conclusión de que ninguna de las variables presenta normalidad, por lo que todas las variables son no paramétricas."
   ]
  },
  {
   "cell_type": "code",
   "execution_count": 3,
   "metadata": {},
   "outputs": [
    {
     "data": {
      "text/html": [
       "<div>\n",
       "<style scoped>\n",
       "    .dataframe tbody tr th:only-of-type {\n",
       "        vertical-align: middle;\n",
       "    }\n",
       "\n",
       "    .dataframe tbody tr th {\n",
       "        vertical-align: top;\n",
       "    }\n",
       "\n",
       "    .dataframe thead th {\n",
       "        text-align: right;\n",
       "    }\n",
       "</style>\n",
       "<table border=\"1\" class=\"dataframe\">\n",
       "  <thead>\n",
       "    <tr style=\"text-align: right;\">\n",
       "      <th></th>\n",
       "      <th>Modelo</th>\n",
       "      <th>Cilindros</th>\n",
       "      <th>Potencia (HP)</th>\n",
       "      <th>Tamaño (L)</th>\n",
       "      <th>R. Ciudad (km/l)</th>\n",
       "      <th>R. Carr. (km/l)</th>\n",
       "      <th>R. Comb. (km/l)</th>\n",
       "      <th>R. Ajust. (km/l)</th>\n",
       "      <th>CO2(g/km)</th>\n",
       "      <th>NOx (g/1000km)</th>\n",
       "      <th>Calificación Gas Ef. Inv.</th>\n",
       "      <th>Hibrido</th>\n",
       "      <th>Marca_Mean_Encoded</th>\n",
       "      <th>Submarca_Mean_Encoded</th>\n",
       "      <th>Versión_Mean_Encoded</th>\n",
       "      <th>Trans._Mean_Encoded</th>\n",
       "      <th>Comb._Mean_Encoded</th>\n",
       "      <th>Categoría_Mean_Encoded</th>\n",
       "    </tr>\n",
       "  </thead>\n",
       "  <tbody>\n",
       "    <tr>\n",
       "      <th>count</th>\n",
       "      <td>4601.000000</td>\n",
       "      <td>4601.000000</td>\n",
       "      <td>4601.000000</td>\n",
       "      <td>4601.000000</td>\n",
       "      <td>4601.000000</td>\n",
       "      <td>4601.000000</td>\n",
       "      <td>4601.000000</td>\n",
       "      <td>4601.000000</td>\n",
       "      <td>4601.000000</td>\n",
       "      <td>4601.00000</td>\n",
       "      <td>4601.000000</td>\n",
       "      <td>4601.000000</td>\n",
       "      <td>4601.000000</td>\n",
       "      <td>4601.000000</td>\n",
       "      <td>4601.000000</td>\n",
       "      <td>4601.000000</td>\n",
       "      <td>4601.000000</td>\n",
       "      <td>4601.000000</td>\n",
       "    </tr>\n",
       "    <tr>\n",
       "      <th>mean</th>\n",
       "      <td>2014.177570</td>\n",
       "      <td>5.333840</td>\n",
       "      <td>255.287111</td>\n",
       "      <td>2.872883</td>\n",
       "      <td>10.600235</td>\n",
       "      <td>16.604230</td>\n",
       "      <td>13.174942</td>\n",
       "      <td>9.881100</td>\n",
       "      <td>256.734188</td>\n",
       "      <td>30.86003</td>\n",
       "      <td>4.877418</td>\n",
       "      <td>0.009346</td>\n",
       "      <td>256.734188</td>\n",
       "      <td>256.734188</td>\n",
       "      <td>256.734188</td>\n",
       "      <td>256.734188</td>\n",
       "      <td>256.734188</td>\n",
       "      <td>256.734188</td>\n",
       "    </tr>\n",
       "    <tr>\n",
       "      <th>std</th>\n",
       "      <td>2.159505</td>\n",
       "      <td>1.801643</td>\n",
       "      <td>132.920841</td>\n",
       "      <td>1.348754</td>\n",
       "      <td>3.289791</td>\n",
       "      <td>4.189682</td>\n",
       "      <td>3.605587</td>\n",
       "      <td>2.704213</td>\n",
       "      <td>75.626879</td>\n",
       "      <td>56.98805</td>\n",
       "      <td>2.485299</td>\n",
       "      <td>0.096231</td>\n",
       "      <td>47.283470</td>\n",
       "      <td>69.199888</td>\n",
       "      <td>75.222650</td>\n",
       "      <td>32.422567</td>\n",
       "      <td>0.458086</td>\n",
       "      <td>39.530221</td>\n",
       "    </tr>\n",
       "    <tr>\n",
       "      <th>min</th>\n",
       "      <td>2011.000000</td>\n",
       "      <td>3.000000</td>\n",
       "      <td>60.000000</td>\n",
       "      <td>0.898000</td>\n",
       "      <td>3.100000</td>\n",
       "      <td>6.700000</td>\n",
       "      <td>4.960000</td>\n",
       "      <td>3.720000</td>\n",
       "      <td>107.000000</td>\n",
       "      <td>0.00000</td>\n",
       "      <td>0.000000</td>\n",
       "      <td>0.000000</td>\n",
       "      <td>139.129032</td>\n",
       "      <td>111.000000</td>\n",
       "      <td>107.000000</td>\n",
       "      <td>163.000000</td>\n",
       "      <td>254.568528</td>\n",
       "      <td>178.539235</td>\n",
       "    </tr>\n",
       "    <tr>\n",
       "      <th>25%</th>\n",
       "      <td>2012.000000</td>\n",
       "      <td>4.000000</td>\n",
       "      <td>150.000000</td>\n",
       "      <td>1.800000</td>\n",
       "      <td>8.200000</td>\n",
       "      <td>13.440000</td>\n",
       "      <td>10.460000</td>\n",
       "      <td>7.840000</td>\n",
       "      <td>200.000000</td>\n",
       "      <td>10.00000</td>\n",
       "      <td>3.000000</td>\n",
       "      <td>0.000000</td>\n",
       "      <td>222.164835</td>\n",
       "      <td>201.000000</td>\n",
       "      <td>201.000000</td>\n",
       "      <td>230.705832</td>\n",
       "      <td>256.831063</td>\n",
       "      <td>204.461003</td>\n",
       "    </tr>\n",
       "    <tr>\n",
       "      <th>50%</th>\n",
       "      <td>2014.000000</td>\n",
       "      <td>4.000000</td>\n",
       "      <td>220.000000</td>\n",
       "      <td>2.500000</td>\n",
       "      <td>10.420000</td>\n",
       "      <td>16.390000</td>\n",
       "      <td>12.870000</td>\n",
       "      <td>9.650000</td>\n",
       "      <td>244.000000</td>\n",
       "      <td>17.00000</td>\n",
       "      <td>5.000000</td>\n",
       "      <td>0.000000</td>\n",
       "      <td>250.082547</td>\n",
       "      <td>246.727273</td>\n",
       "      <td>244.000000</td>\n",
       "      <td>271.689271</td>\n",
       "      <td>256.831063</td>\n",
       "      <td>270.917372</td>\n",
       "    </tr>\n",
       "    <tr>\n",
       "      <th>75%</th>\n",
       "      <td>2016.000000</td>\n",
       "      <td>6.000000</td>\n",
       "      <td>330.000000</td>\n",
       "      <td>3.600000</td>\n",
       "      <td>12.820000</td>\n",
       "      <td>19.600000</td>\n",
       "      <td>15.600000</td>\n",
       "      <td>11.700000</td>\n",
       "      <td>299.000000</td>\n",
       "      <td>28.00000</td>\n",
       "      <td>7.000000</td>\n",
       "      <td>0.000000</td>\n",
       "      <td>288.042857</td>\n",
       "      <td>294.000000</td>\n",
       "      <td>300.000000</td>\n",
       "      <td>271.689271</td>\n",
       "      <td>256.831063</td>\n",
       "      <td>294.606742</td>\n",
       "    </tr>\n",
       "    <tr>\n",
       "      <th>max</th>\n",
       "      <td>2018.000000</td>\n",
       "      <td>12.000000</td>\n",
       "      <td>888.000000</td>\n",
       "      <td>8.400000</td>\n",
       "      <td>27.460000</td>\n",
       "      <td>31.300000</td>\n",
       "      <td>28.930000</td>\n",
       "      <td>21.700000</td>\n",
       "      <td>627.000000</td>\n",
       "      <td>724.00000</td>\n",
       "      <td>10.000000</td>\n",
       "      <td>1.000000</td>\n",
       "      <td>481.760000</td>\n",
       "      <td>611.000000</td>\n",
       "      <td>627.000000</td>\n",
       "      <td>447.312500</td>\n",
       "      <td>256.831063</td>\n",
       "      <td>294.606742</td>\n",
       "    </tr>\n",
       "  </tbody>\n",
       "</table>\n",
       "</div>"
      ],
      "text/plain": [
       "            Modelo    Cilindros  Potencia (HP)   Tamaño (L)  R. Ciudad (km/l)  \\\n",
       "count  4601.000000  4601.000000    4601.000000  4601.000000       4601.000000   \n",
       "mean   2014.177570     5.333840     255.287111     2.872883         10.600235   \n",
       "std       2.159505     1.801643     132.920841     1.348754          3.289791   \n",
       "min    2011.000000     3.000000      60.000000     0.898000          3.100000   \n",
       "25%    2012.000000     4.000000     150.000000     1.800000          8.200000   \n",
       "50%    2014.000000     4.000000     220.000000     2.500000         10.420000   \n",
       "75%    2016.000000     6.000000     330.000000     3.600000         12.820000   \n",
       "max    2018.000000    12.000000     888.000000     8.400000         27.460000   \n",
       "\n",
       "       R. Carr. (km/l)  R. Comb. (km/l)  R. Ajust. (km/l)    CO2(g/km)  \\\n",
       "count      4601.000000      4601.000000       4601.000000  4601.000000   \n",
       "mean         16.604230        13.174942          9.881100   256.734188   \n",
       "std           4.189682         3.605587          2.704213    75.626879   \n",
       "min           6.700000         4.960000          3.720000   107.000000   \n",
       "25%          13.440000        10.460000          7.840000   200.000000   \n",
       "50%          16.390000        12.870000          9.650000   244.000000   \n",
       "75%          19.600000        15.600000         11.700000   299.000000   \n",
       "max          31.300000        28.930000         21.700000   627.000000   \n",
       "\n",
       "       NOx (g/1000km)  Calificación Gas Ef. Inv.      Hibrido  \\\n",
       "count      4601.00000                4601.000000  4601.000000   \n",
       "mean         30.86003                   4.877418     0.009346   \n",
       "std          56.98805                   2.485299     0.096231   \n",
       "min           0.00000                   0.000000     0.000000   \n",
       "25%          10.00000                   3.000000     0.000000   \n",
       "50%          17.00000                   5.000000     0.000000   \n",
       "75%          28.00000                   7.000000     0.000000   \n",
       "max         724.00000                  10.000000     1.000000   \n",
       "\n",
       "       Marca_Mean_Encoded  Submarca_Mean_Encoded  Versión_Mean_Encoded  \\\n",
       "count         4601.000000            4601.000000           4601.000000   \n",
       "mean           256.734188             256.734188            256.734188   \n",
       "std             47.283470              69.199888             75.222650   \n",
       "min            139.129032             111.000000            107.000000   \n",
       "25%            222.164835             201.000000            201.000000   \n",
       "50%            250.082547             246.727273            244.000000   \n",
       "75%            288.042857             294.000000            300.000000   \n",
       "max            481.760000             611.000000            627.000000   \n",
       "\n",
       "       Trans._Mean_Encoded  Comb._Mean_Encoded  Categoría_Mean_Encoded  \n",
       "count          4601.000000         4601.000000             4601.000000  \n",
       "mean            256.734188          256.734188              256.734188  \n",
       "std              32.422567            0.458086               39.530221  \n",
       "min             163.000000          254.568528              178.539235  \n",
       "25%             230.705832          256.831063              204.461003  \n",
       "50%             271.689271          256.831063              270.917372  \n",
       "75%             271.689271          256.831063              294.606742  \n",
       "max             447.312500          256.831063              294.606742  "
      ]
     },
     "execution_count": 3,
     "metadata": {},
     "output_type": "execute_result"
    }
   ],
   "source": [
    "#############\n",
    "## Tarea 3 ##\n",
    "#############\n",
    "\n",
    "# Calcula estadísticos descriptivos básicos para tus datos.\n",
    "df_proc = pd.read_csv('datos_proc2.csv')\n",
    "df_proc.describe()"
   ]
  },
  {
   "cell_type": "code",
   "execution_count": 4,
   "metadata": {},
   "outputs": [
    {
     "data": {
      "text/html": [
       "<div>\n",
       "<style scoped>\n",
       "    .dataframe tbody tr th:only-of-type {\n",
       "        vertical-align: middle;\n",
       "    }\n",
       "\n",
       "    .dataframe tbody tr th {\n",
       "        vertical-align: top;\n",
       "    }\n",
       "\n",
       "    .dataframe thead th {\n",
       "        text-align: right;\n",
       "    }\n",
       "</style>\n",
       "<table border=\"1\" class=\"dataframe\">\n",
       "  <thead>\n",
       "    <tr style=\"text-align: right;\">\n",
       "      <th></th>\n",
       "      <th>Modelo</th>\n",
       "      <th>Cilindros</th>\n",
       "      <th>Potencia (HP)</th>\n",
       "      <th>Tamaño (L)</th>\n",
       "      <th>R. Ciudad (km/l)</th>\n",
       "      <th>R. Carr. (km/l)</th>\n",
       "      <th>R. Comb. (km/l)</th>\n",
       "      <th>R. Ajust. (km/l)</th>\n",
       "      <th>CO2(g/km)</th>\n",
       "      <th>NOx (g/1000km)</th>\n",
       "      <th>Calificación Gas Ef. Inv.</th>\n",
       "      <th>Hibrido</th>\n",
       "      <th>Marca_Mean_Encoded</th>\n",
       "      <th>Submarca_Mean_Encoded</th>\n",
       "      <th>Versión_Mean_Encoded</th>\n",
       "      <th>Trans._Mean_Encoded</th>\n",
       "      <th>Comb._Mean_Encoded</th>\n",
       "      <th>Categoría_Mean_Encoded</th>\n",
       "    </tr>\n",
       "  </thead>\n",
       "  <tbody>\n",
       "    <tr>\n",
       "      <th>Modelo</th>\n",
       "      <td>1.000000</td>\n",
       "      <td>-0.083072</td>\n",
       "      <td>0.034738</td>\n",
       "      <td>-0.105382</td>\n",
       "      <td>0.276066</td>\n",
       "      <td>0.273855</td>\n",
       "      <td>0.275549</td>\n",
       "      <td>0.275515</td>\n",
       "      <td>-0.268884</td>\n",
       "      <td>-0.034228</td>\n",
       "      <td>0.265598</td>\n",
       "      <td>0.023395</td>\n",
       "      <td>-0.073780</td>\n",
       "      <td>-0.157906</td>\n",
       "      <td>-0.264245</td>\n",
       "      <td>-0.087986</td>\n",
       "      <td>0.012918</td>\n",
       "      <td>-0.016263</td>\n",
       "    </tr>\n",
       "    <tr>\n",
       "      <th>Cilindros</th>\n",
       "      <td>-0.083072</td>\n",
       "      <td>1.000000</td>\n",
       "      <td>0.871190</td>\n",
       "      <td>0.916374</td>\n",
       "      <td>-0.714194</td>\n",
       "      <td>-0.688676</td>\n",
       "      <td>-0.727540</td>\n",
       "      <td>-0.727584</td>\n",
       "      <td>0.799921</td>\n",
       "      <td>-0.084840</td>\n",
       "      <td>-0.774514</td>\n",
       "      <td>-0.020507</td>\n",
       "      <td>0.593143</td>\n",
       "      <td>0.805943</td>\n",
       "      <td>0.804153</td>\n",
       "      <td>0.431967</td>\n",
       "      <td>0.095811</td>\n",
       "      <td>0.399578</td>\n",
       "    </tr>\n",
       "    <tr>\n",
       "      <th>Potencia (HP)</th>\n",
       "      <td>0.034738</td>\n",
       "      <td>0.871190</td>\n",
       "      <td>1.000000</td>\n",
       "      <td>0.866727</td>\n",
       "      <td>-0.713683</td>\n",
       "      <td>-0.680867</td>\n",
       "      <td>-0.727851</td>\n",
       "      <td>-0.727902</td>\n",
       "      <td>0.737185</td>\n",
       "      <td>-0.138442</td>\n",
       "      <td>-0.733139</td>\n",
       "      <td>0.011568</td>\n",
       "      <td>0.578843</td>\n",
       "      <td>0.749113</td>\n",
       "      <td>0.741032</td>\n",
       "      <td>0.392642</td>\n",
       "      <td>0.158589</td>\n",
       "      <td>0.468453</td>\n",
       "    </tr>\n",
       "    <tr>\n",
       "      <th>Tamaño (L)</th>\n",
       "      <td>-0.105382</td>\n",
       "      <td>0.916374</td>\n",
       "      <td>0.866727</td>\n",
       "      <td>1.000000</td>\n",
       "      <td>-0.761748</td>\n",
       "      <td>-0.749826</td>\n",
       "      <td>-0.790848</td>\n",
       "      <td>-0.790883</td>\n",
       "      <td>0.835167</td>\n",
       "      <td>-0.080526</td>\n",
       "      <td>-0.834946</td>\n",
       "      <td>-0.029703</td>\n",
       "      <td>0.567893</td>\n",
       "      <td>0.836053</td>\n",
       "      <td>0.839657</td>\n",
       "      <td>0.406352</td>\n",
       "      <td>0.078826</td>\n",
       "      <td>0.485566</td>\n",
       "    </tr>\n",
       "    <tr>\n",
       "      <th>R. Ciudad (km/l)</th>\n",
       "      <td>0.276066</td>\n",
       "      <td>-0.714194</td>\n",
       "      <td>-0.713683</td>\n",
       "      <td>-0.761748</td>\n",
       "      <td>1.000000</td>\n",
       "      <td>0.910299</td>\n",
       "      <td>0.970594</td>\n",
       "      <td>0.970578</td>\n",
       "      <td>-0.900163</td>\n",
       "      <td>0.026246</td>\n",
       "      <td>0.918983</td>\n",
       "      <td>0.224216</td>\n",
       "      <td>-0.534957</td>\n",
       "      <td>-0.828366</td>\n",
       "      <td>-0.897248</td>\n",
       "      <td>-0.404219</td>\n",
       "      <td>-0.068998</td>\n",
       "      <td>-0.571188</td>\n",
       "    </tr>\n",
       "    <tr>\n",
       "      <th>R. Carr. (km/l)</th>\n",
       "      <td>0.273855</td>\n",
       "      <td>-0.688676</td>\n",
       "      <td>-0.680867</td>\n",
       "      <td>-0.749826</td>\n",
       "      <td>0.910299</td>\n",
       "      <td>1.000000</td>\n",
       "      <td>0.950795</td>\n",
       "      <td>0.950781</td>\n",
       "      <td>-0.906839</td>\n",
       "      <td>-0.036218</td>\n",
       "      <td>0.924596</td>\n",
       "      <td>0.085612</td>\n",
       "      <td>-0.546002</td>\n",
       "      <td>-0.840954</td>\n",
       "      <td>-0.903652</td>\n",
       "      <td>-0.385610</td>\n",
       "      <td>-0.001996</td>\n",
       "      <td>-0.599462</td>\n",
       "    </tr>\n",
       "    <tr>\n",
       "      <th>R. Comb. (km/l)</th>\n",
       "      <td>0.275549</td>\n",
       "      <td>-0.727540</td>\n",
       "      <td>-0.727851</td>\n",
       "      <td>-0.790848</td>\n",
       "      <td>0.970594</td>\n",
       "      <td>0.950795</td>\n",
       "      <td>1.000000</td>\n",
       "      <td>0.999999</td>\n",
       "      <td>-0.930311</td>\n",
       "      <td>0.051128</td>\n",
       "      <td>0.948898</td>\n",
       "      <td>0.169384</td>\n",
       "      <td>-0.556964</td>\n",
       "      <td>-0.858765</td>\n",
       "      <td>-0.926669</td>\n",
       "      <td>-0.396778</td>\n",
       "      <td>-0.095001</td>\n",
       "      <td>-0.589475</td>\n",
       "    </tr>\n",
       "    <tr>\n",
       "      <th>R. Ajust. (km/l)</th>\n",
       "      <td>0.275515</td>\n",
       "      <td>-0.727584</td>\n",
       "      <td>-0.727902</td>\n",
       "      <td>-0.790883</td>\n",
       "      <td>0.970578</td>\n",
       "      <td>0.950781</td>\n",
       "      <td>0.999999</td>\n",
       "      <td>1.000000</td>\n",
       "      <td>-0.930332</td>\n",
       "      <td>0.051150</td>\n",
       "      <td>0.948910</td>\n",
       "      <td>0.169368</td>\n",
       "      <td>-0.557008</td>\n",
       "      <td>-0.858805</td>\n",
       "      <td>-0.926691</td>\n",
       "      <td>-0.396802</td>\n",
       "      <td>-0.095008</td>\n",
       "      <td>-0.589490</td>\n",
       "    </tr>\n",
       "    <tr>\n",
       "      <th>CO2(g/km)</th>\n",
       "      <td>-0.268884</td>\n",
       "      <td>0.799921</td>\n",
       "      <td>0.737185</td>\n",
       "      <td>0.835167</td>\n",
       "      <td>-0.900163</td>\n",
       "      <td>-0.906839</td>\n",
       "      <td>-0.930311</td>\n",
       "      <td>-0.930332</td>\n",
       "      <td>1.000000</td>\n",
       "      <td>0.020633</td>\n",
       "      <td>-0.962325</td>\n",
       "      <td>-0.109972</td>\n",
       "      <td>0.625220</td>\n",
       "      <td>0.915017</td>\n",
       "      <td>0.994655</td>\n",
       "      <td>0.428718</td>\n",
       "      <td>0.006057</td>\n",
       "      <td>0.522701</td>\n",
       "    </tr>\n",
       "    <tr>\n",
       "      <th>NOx (g/1000km)</th>\n",
       "      <td>-0.034228</td>\n",
       "      <td>-0.084840</td>\n",
       "      <td>-0.138442</td>\n",
       "      <td>-0.080526</td>\n",
       "      <td>0.026246</td>\n",
       "      <td>-0.036218</td>\n",
       "      <td>0.051128</td>\n",
       "      <td>0.051150</td>\n",
       "      <td>0.020633</td>\n",
       "      <td>1.000000</td>\n",
       "      <td>-0.028093</td>\n",
       "      <td>-0.027787</td>\n",
       "      <td>-0.015058</td>\n",
       "      <td>0.036299</td>\n",
       "      <td>0.019517</td>\n",
       "      <td>-0.094852</td>\n",
       "      <td>-0.867588</td>\n",
       "      <td>0.099843</td>\n",
       "    </tr>\n",
       "    <tr>\n",
       "      <th>Calificación Gas Ef. Inv.</th>\n",
       "      <td>0.265598</td>\n",
       "      <td>-0.774514</td>\n",
       "      <td>-0.733139</td>\n",
       "      <td>-0.834946</td>\n",
       "      <td>0.918983</td>\n",
       "      <td>0.924596</td>\n",
       "      <td>0.948898</td>\n",
       "      <td>0.948910</td>\n",
       "      <td>-0.962325</td>\n",
       "      <td>-0.028093</td>\n",
       "      <td>1.000000</td>\n",
       "      <td>0.122048</td>\n",
       "      <td>-0.565498</td>\n",
       "      <td>-0.890495</td>\n",
       "      <td>-0.958679</td>\n",
       "      <td>-0.394603</td>\n",
       "      <td>0.000368</td>\n",
       "      <td>-0.552115</td>\n",
       "    </tr>\n",
       "    <tr>\n",
       "      <th>Hibrido</th>\n",
       "      <td>0.023395</td>\n",
       "      <td>-0.020507</td>\n",
       "      <td>0.011568</td>\n",
       "      <td>-0.029703</td>\n",
       "      <td>0.224216</td>\n",
       "      <td>0.085612</td>\n",
       "      <td>0.169384</td>\n",
       "      <td>0.169368</td>\n",
       "      <td>-0.109972</td>\n",
       "      <td>-0.027787</td>\n",
       "      <td>0.122048</td>\n",
       "      <td>1.000000</td>\n",
       "      <td>0.013995</td>\n",
       "      <td>-0.050570</td>\n",
       "      <td>-0.110563</td>\n",
       "      <td>-0.020803</td>\n",
       "      <td>0.020543</td>\n",
       "      <td>0.008624</td>\n",
       "    </tr>\n",
       "    <tr>\n",
       "      <th>Marca_Mean_Encoded</th>\n",
       "      <td>-0.073780</td>\n",
       "      <td>0.593143</td>\n",
       "      <td>0.578843</td>\n",
       "      <td>0.567893</td>\n",
       "      <td>-0.534957</td>\n",
       "      <td>-0.546002</td>\n",
       "      <td>-0.556964</td>\n",
       "      <td>-0.557008</td>\n",
       "      <td>0.625220</td>\n",
       "      <td>-0.015058</td>\n",
       "      <td>-0.565498</td>\n",
       "      <td>0.013995</td>\n",
       "      <td>1.000000</td>\n",
       "      <td>0.681515</td>\n",
       "      <td>0.628128</td>\n",
       "      <td>0.402822</td>\n",
       "      <td>0.033666</td>\n",
       "      <td>0.359766</td>\n",
       "    </tr>\n",
       "    <tr>\n",
       "      <th>Submarca_Mean_Encoded</th>\n",
       "      <td>-0.157906</td>\n",
       "      <td>0.805943</td>\n",
       "      <td>0.749113</td>\n",
       "      <td>0.836053</td>\n",
       "      <td>-0.828366</td>\n",
       "      <td>-0.840954</td>\n",
       "      <td>-0.858765</td>\n",
       "      <td>-0.858805</td>\n",
       "      <td>0.915017</td>\n",
       "      <td>0.036299</td>\n",
       "      <td>-0.890495</td>\n",
       "      <td>-0.050570</td>\n",
       "      <td>0.681515</td>\n",
       "      <td>1.000000</td>\n",
       "      <td>0.917494</td>\n",
       "      <td>0.421572</td>\n",
       "      <td>-0.026984</td>\n",
       "      <td>0.568871</td>\n",
       "    </tr>\n",
       "    <tr>\n",
       "      <th>Versión_Mean_Encoded</th>\n",
       "      <td>-0.264245</td>\n",
       "      <td>0.804153</td>\n",
       "      <td>0.741032</td>\n",
       "      <td>0.839657</td>\n",
       "      <td>-0.897248</td>\n",
       "      <td>-0.903652</td>\n",
       "      <td>-0.926669</td>\n",
       "      <td>-0.926691</td>\n",
       "      <td>0.994655</td>\n",
       "      <td>0.019517</td>\n",
       "      <td>-0.958679</td>\n",
       "      <td>-0.110563</td>\n",
       "      <td>0.628128</td>\n",
       "      <td>0.917494</td>\n",
       "      <td>1.000000</td>\n",
       "      <td>0.430536</td>\n",
       "      <td>0.006090</td>\n",
       "      <td>0.523910</td>\n",
       "    </tr>\n",
       "    <tr>\n",
       "      <th>Trans._Mean_Encoded</th>\n",
       "      <td>-0.087986</td>\n",
       "      <td>0.431967</td>\n",
       "      <td>0.392642</td>\n",
       "      <td>0.406352</td>\n",
       "      <td>-0.404219</td>\n",
       "      <td>-0.385610</td>\n",
       "      <td>-0.396778</td>\n",
       "      <td>-0.396802</td>\n",
       "      <td>0.428718</td>\n",
       "      <td>-0.094852</td>\n",
       "      <td>-0.394603</td>\n",
       "      <td>-0.020803</td>\n",
       "      <td>0.402822</td>\n",
       "      <td>0.421572</td>\n",
       "      <td>0.430536</td>\n",
       "      <td>1.000000</td>\n",
       "      <td>0.093762</td>\n",
       "      <td>0.233103</td>\n",
       "    </tr>\n",
       "    <tr>\n",
       "      <th>Comb._Mean_Encoded</th>\n",
       "      <td>0.012918</td>\n",
       "      <td>0.095811</td>\n",
       "      <td>0.158589</td>\n",
       "      <td>0.078826</td>\n",
       "      <td>-0.068998</td>\n",
       "      <td>-0.001996</td>\n",
       "      <td>-0.095001</td>\n",
       "      <td>-0.095008</td>\n",
       "      <td>0.006057</td>\n",
       "      <td>-0.867588</td>\n",
       "      <td>0.000368</td>\n",
       "      <td>0.020543</td>\n",
       "      <td>0.033666</td>\n",
       "      <td>-0.026984</td>\n",
       "      <td>0.006090</td>\n",
       "      <td>0.093762</td>\n",
       "      <td>1.000000</td>\n",
       "      <td>-0.111585</td>\n",
       "    </tr>\n",
       "    <tr>\n",
       "      <th>Categoría_Mean_Encoded</th>\n",
       "      <td>-0.016263</td>\n",
       "      <td>0.399578</td>\n",
       "      <td>0.468453</td>\n",
       "      <td>0.485566</td>\n",
       "      <td>-0.571188</td>\n",
       "      <td>-0.599462</td>\n",
       "      <td>-0.589475</td>\n",
       "      <td>-0.589490</td>\n",
       "      <td>0.522701</td>\n",
       "      <td>0.099843</td>\n",
       "      <td>-0.552115</td>\n",
       "      <td>0.008624</td>\n",
       "      <td>0.359766</td>\n",
       "      <td>0.568871</td>\n",
       "      <td>0.523910</td>\n",
       "      <td>0.233103</td>\n",
       "      <td>-0.111585</td>\n",
       "      <td>1.000000</td>\n",
       "    </tr>\n",
       "  </tbody>\n",
       "</table>\n",
       "</div>"
      ],
      "text/plain": [
       "                             Modelo  Cilindros  Potencia (HP)  Tamaño (L)  \\\n",
       "Modelo                     1.000000  -0.083072       0.034738   -0.105382   \n",
       "Cilindros                 -0.083072   1.000000       0.871190    0.916374   \n",
       "Potencia (HP)              0.034738   0.871190       1.000000    0.866727   \n",
       "Tamaño (L)                -0.105382   0.916374       0.866727    1.000000   \n",
       "R. Ciudad (km/l)           0.276066  -0.714194      -0.713683   -0.761748   \n",
       "R. Carr. (km/l)            0.273855  -0.688676      -0.680867   -0.749826   \n",
       "R. Comb. (km/l)            0.275549  -0.727540      -0.727851   -0.790848   \n",
       "R. Ajust. (km/l)           0.275515  -0.727584      -0.727902   -0.790883   \n",
       "CO2(g/km)                 -0.268884   0.799921       0.737185    0.835167   \n",
       "NOx (g/1000km)            -0.034228  -0.084840      -0.138442   -0.080526   \n",
       "Calificación Gas Ef. Inv.  0.265598  -0.774514      -0.733139   -0.834946   \n",
       "Hibrido                    0.023395  -0.020507       0.011568   -0.029703   \n",
       "Marca_Mean_Encoded        -0.073780   0.593143       0.578843    0.567893   \n",
       "Submarca_Mean_Encoded     -0.157906   0.805943       0.749113    0.836053   \n",
       "Versión_Mean_Encoded      -0.264245   0.804153       0.741032    0.839657   \n",
       "Trans._Mean_Encoded       -0.087986   0.431967       0.392642    0.406352   \n",
       "Comb._Mean_Encoded         0.012918   0.095811       0.158589    0.078826   \n",
       "Categoría_Mean_Encoded    -0.016263   0.399578       0.468453    0.485566   \n",
       "\n",
       "                           R. Ciudad (km/l)  R. Carr. (km/l)  R. Comb. (km/l)  \\\n",
       "Modelo                             0.276066         0.273855         0.275549   \n",
       "Cilindros                         -0.714194        -0.688676        -0.727540   \n",
       "Potencia (HP)                     -0.713683        -0.680867        -0.727851   \n",
       "Tamaño (L)                        -0.761748        -0.749826        -0.790848   \n",
       "R. Ciudad (km/l)                   1.000000         0.910299         0.970594   \n",
       "R. Carr. (km/l)                    0.910299         1.000000         0.950795   \n",
       "R. Comb. (km/l)                    0.970594         0.950795         1.000000   \n",
       "R. Ajust. (km/l)                   0.970578         0.950781         0.999999   \n",
       "CO2(g/km)                         -0.900163        -0.906839        -0.930311   \n",
       "NOx (g/1000km)                     0.026246        -0.036218         0.051128   \n",
       "Calificación Gas Ef. Inv.          0.918983         0.924596         0.948898   \n",
       "Hibrido                            0.224216         0.085612         0.169384   \n",
       "Marca_Mean_Encoded                -0.534957        -0.546002        -0.556964   \n",
       "Submarca_Mean_Encoded             -0.828366        -0.840954        -0.858765   \n",
       "Versión_Mean_Encoded              -0.897248        -0.903652        -0.926669   \n",
       "Trans._Mean_Encoded               -0.404219        -0.385610        -0.396778   \n",
       "Comb._Mean_Encoded                -0.068998        -0.001996        -0.095001   \n",
       "Categoría_Mean_Encoded            -0.571188        -0.599462        -0.589475   \n",
       "\n",
       "                           R. Ajust. (km/l)  CO2(g/km)  NOx (g/1000km)  \\\n",
       "Modelo                             0.275515  -0.268884       -0.034228   \n",
       "Cilindros                         -0.727584   0.799921       -0.084840   \n",
       "Potencia (HP)                     -0.727902   0.737185       -0.138442   \n",
       "Tamaño (L)                        -0.790883   0.835167       -0.080526   \n",
       "R. Ciudad (km/l)                   0.970578  -0.900163        0.026246   \n",
       "R. Carr. (km/l)                    0.950781  -0.906839       -0.036218   \n",
       "R. Comb. (km/l)                    0.999999  -0.930311        0.051128   \n",
       "R. Ajust. (km/l)                   1.000000  -0.930332        0.051150   \n",
       "CO2(g/km)                         -0.930332   1.000000        0.020633   \n",
       "NOx (g/1000km)                     0.051150   0.020633        1.000000   \n",
       "Calificación Gas Ef. Inv.          0.948910  -0.962325       -0.028093   \n",
       "Hibrido                            0.169368  -0.109972       -0.027787   \n",
       "Marca_Mean_Encoded                -0.557008   0.625220       -0.015058   \n",
       "Submarca_Mean_Encoded             -0.858805   0.915017        0.036299   \n",
       "Versión_Mean_Encoded              -0.926691   0.994655        0.019517   \n",
       "Trans._Mean_Encoded               -0.396802   0.428718       -0.094852   \n",
       "Comb._Mean_Encoded                -0.095008   0.006057       -0.867588   \n",
       "Categoría_Mean_Encoded            -0.589490   0.522701        0.099843   \n",
       "\n",
       "                           Calificación Gas Ef. Inv.   Hibrido  \\\n",
       "Modelo                                      0.265598  0.023395   \n",
       "Cilindros                                  -0.774514 -0.020507   \n",
       "Potencia (HP)                              -0.733139  0.011568   \n",
       "Tamaño (L)                                 -0.834946 -0.029703   \n",
       "R. Ciudad (km/l)                            0.918983  0.224216   \n",
       "R. Carr. (km/l)                             0.924596  0.085612   \n",
       "R. Comb. (km/l)                             0.948898  0.169384   \n",
       "R. Ajust. (km/l)                            0.948910  0.169368   \n",
       "CO2(g/km)                                  -0.962325 -0.109972   \n",
       "NOx (g/1000km)                             -0.028093 -0.027787   \n",
       "Calificación Gas Ef. Inv.                   1.000000  0.122048   \n",
       "Hibrido                                     0.122048  1.000000   \n",
       "Marca_Mean_Encoded                         -0.565498  0.013995   \n",
       "Submarca_Mean_Encoded                      -0.890495 -0.050570   \n",
       "Versión_Mean_Encoded                       -0.958679 -0.110563   \n",
       "Trans._Mean_Encoded                        -0.394603 -0.020803   \n",
       "Comb._Mean_Encoded                          0.000368  0.020543   \n",
       "Categoría_Mean_Encoded                     -0.552115  0.008624   \n",
       "\n",
       "                           Marca_Mean_Encoded  Submarca_Mean_Encoded  \\\n",
       "Modelo                              -0.073780              -0.157906   \n",
       "Cilindros                            0.593143               0.805943   \n",
       "Potencia (HP)                        0.578843               0.749113   \n",
       "Tamaño (L)                           0.567893               0.836053   \n",
       "R. Ciudad (km/l)                    -0.534957              -0.828366   \n",
       "R. Carr. (km/l)                     -0.546002              -0.840954   \n",
       "R. Comb. (km/l)                     -0.556964              -0.858765   \n",
       "R. Ajust. (km/l)                    -0.557008              -0.858805   \n",
       "CO2(g/km)                            0.625220               0.915017   \n",
       "NOx (g/1000km)                      -0.015058               0.036299   \n",
       "Calificación Gas Ef. Inv.           -0.565498              -0.890495   \n",
       "Hibrido                              0.013995              -0.050570   \n",
       "Marca_Mean_Encoded                   1.000000               0.681515   \n",
       "Submarca_Mean_Encoded                0.681515               1.000000   \n",
       "Versión_Mean_Encoded                 0.628128               0.917494   \n",
       "Trans._Mean_Encoded                  0.402822               0.421572   \n",
       "Comb._Mean_Encoded                   0.033666              -0.026984   \n",
       "Categoría_Mean_Encoded               0.359766               0.568871   \n",
       "\n",
       "                           Versión_Mean_Encoded  Trans._Mean_Encoded  \\\n",
       "Modelo                                -0.264245            -0.087986   \n",
       "Cilindros                              0.804153             0.431967   \n",
       "Potencia (HP)                          0.741032             0.392642   \n",
       "Tamaño (L)                             0.839657             0.406352   \n",
       "R. Ciudad (km/l)                      -0.897248            -0.404219   \n",
       "R. Carr. (km/l)                       -0.903652            -0.385610   \n",
       "R. Comb. (km/l)                       -0.926669            -0.396778   \n",
       "R. Ajust. (km/l)                      -0.926691            -0.396802   \n",
       "CO2(g/km)                              0.994655             0.428718   \n",
       "NOx (g/1000km)                         0.019517            -0.094852   \n",
       "Calificación Gas Ef. Inv.             -0.958679            -0.394603   \n",
       "Hibrido                               -0.110563            -0.020803   \n",
       "Marca_Mean_Encoded                     0.628128             0.402822   \n",
       "Submarca_Mean_Encoded                  0.917494             0.421572   \n",
       "Versión_Mean_Encoded                   1.000000             0.430536   \n",
       "Trans._Mean_Encoded                    0.430536             1.000000   \n",
       "Comb._Mean_Encoded                     0.006090             0.093762   \n",
       "Categoría_Mean_Encoded                 0.523910             0.233103   \n",
       "\n",
       "                           Comb._Mean_Encoded  Categoría_Mean_Encoded  \n",
       "Modelo                               0.012918               -0.016263  \n",
       "Cilindros                            0.095811                0.399578  \n",
       "Potencia (HP)                        0.158589                0.468453  \n",
       "Tamaño (L)                           0.078826                0.485566  \n",
       "R. Ciudad (km/l)                    -0.068998               -0.571188  \n",
       "R. Carr. (km/l)                     -0.001996               -0.599462  \n",
       "R. Comb. (km/l)                     -0.095001               -0.589475  \n",
       "R. Ajust. (km/l)                    -0.095008               -0.589490  \n",
       "CO2(g/km)                            0.006057                0.522701  \n",
       "NOx (g/1000km)                      -0.867588                0.099843  \n",
       "Calificación Gas Ef. Inv.            0.000368               -0.552115  \n",
       "Hibrido                              0.020543                0.008624  \n",
       "Marca_Mean_Encoded                   0.033666                0.359766  \n",
       "Submarca_Mean_Encoded               -0.026984                0.568871  \n",
       "Versión_Mean_Encoded                 0.006090                0.523910  \n",
       "Trans._Mean_Encoded                  0.093762                0.233103  \n",
       "Comb._Mean_Encoded                   1.000000               -0.111585  \n",
       "Categoría_Mean_Encoded              -0.111585                1.000000  "
      ]
     },
     "execution_count": 4,
     "metadata": {},
     "output_type": "execute_result"
    }
   ],
   "source": [
    "# Haz una matriz de correlación de tus datos y escribe algunas interpretaciones de la misma.\n",
    "\n",
    "import numpy as np\n",
    "\n",
    "df_proc.corr()"
   ]
  },
  {
   "cell_type": "markdown",
   "metadata": {},
   "source": [
    "**INTERPRETACIONES:**\n",
    "\n",
    "Contrario a lo que esperaba de que las emisiones de CO2(g/km) y de NOx (g/1000km) tuvieran una correlación positiva fuerte, en realidad \n",
    "tienen una correlación cercana a cero, con lo que se podría concluir que las emisiones de CO2 de un vehículo no se relaciona con sus emisiones de NOx.\n",
    "\n",
    "El par de variables con mayor correlación positiva de casi 1 son Rendimiento Combinado (km/l) y Rendimiento Ajustado (km/l), lo cual sí me hace sentido y podría evidenciar que \n",
    "estas variables aportan la misma información al modelo y se podría eliminar alguna de las dos.\n",
    "\n",
    "El par de variables con mayor correlación negativa de -0.96 son las emisiones de CO2 y la Calificación de Gas Ef. Inv., lo cual sí me hace sentido ya que entre menor sean las \n",
    "cantidades de emisión de CO2 de los vehículos mayor va a ser su Calificación de Gas de Efecto Invernadero."
   ]
  },
  {
   "cell_type": "code",
   "execution_count": 5,
   "metadata": {},
   "outputs": [
    {
     "name": "stdout",
     "output_type": "stream",
     "text": [
      "CO2(g/km) and NOx (g/1000km)\n",
      "stat=0.031, p=0.038\n",
      "Probably dependent\n",
      "\n",
      "R. Comb. (km/l) and R. Ajust. (km/l)\n",
      "stat=1.000, p=0.000\n",
      "Probably dependent\n",
      "\n",
      "CO2(g/km) and Calificación Gas Ef. Inv.\n",
      "stat=-0.992, p=0.000\n",
      "Probably dependent\n",
      "\n"
     ]
    }
   ],
   "source": [
    "# Realiza alguna prueba de hipótesis a partir de las conclusiones que hayas sacado de la matriz de correlación.\n",
    "\n",
    "# Realizaremos la prueba de Spearman's Rank Correlation para comprobar si los tres pares de variables comentados arriba en realidad tienen una relación monótona.\n",
    "\n",
    "# Example of the Spearman's Rank Correlation Test\n",
    "from scipy.stats import spearmanr\n",
    "\n",
    "print('CO2(g/km) and NOx (g/1000km)')\n",
    "stat, p = spearmanr(df_proc['CO2(g/km)'], df_proc['NOx (g/1000km)'])\n",
    "print('stat=%.3f, p=%.3f' % (stat, p))\n",
    "if p > 0.05:\n",
    "\tprint('Probably independent')\n",
    "else:\n",
    "\tprint('Probably dependent')\n",
    "print('')\n",
    "\n",
    "print('R. Comb. (km/l) and R. Ajust. (km/l)')\n",
    "stat, p = spearmanr(df_proc['R. Comb. (km/l)'], df_proc['R. Ajust. (km/l)'])\n",
    "print('stat=%.3f, p=%.3f' % (stat, p))\n",
    "if p > 0.05:\n",
    "\tprint('Probably independent')\n",
    "else:\n",
    "\tprint('Probably dependent')\n",
    "print('')\n",
    "\n",
    "print('CO2(g/km) and Calificación Gas Ef. Inv.')\n",
    "stat, p = spearmanr(df_proc['CO2(g/km)'], df_proc['Calificación Gas Ef. Inv.'])\n",
    "print('stat=%.3f, p=%.3f' % (stat, p))\n",
    "if p > 0.05:\n",
    "\tprint('Probably independent')\n",
    "else:\n",
    "\tprint('Probably dependent')\n",
    "print('')\n",
    "\n",
    "# Se llega a la conclusión de que los tres pares de variables son dependientes. \n",
    "# Sin embargo para la primera prueba de CO2 y NOx con una significancia del 1% habría suficiente evidencia para afirmar que las variables son independientes."
   ]
  },
  {
   "cell_type": "code",
   "execution_count": 6,
   "metadata": {},
   "outputs": [
    {
     "name": "stdout",
     "output_type": "stream",
     "text": [
      "Modelo\n"
     ]
    },
    {
     "data": {
      "image/png": "[encoded data removed]",
      "text/plain": [
       "<Figure size 640x480 with 1 Axes>"
      ]
     },
     "metadata": {},
     "output_type": "display_data"
    },
    {
     "name": "stdout",
     "output_type": "stream",
     "text": [
      "Cilindros\n"
     ]
    },
    {
     "data": {
      "image/png": "[encoded data removed]",
      "text/plain": [
       "<Figure size 640x480 with 1 Axes>"
      ]
     },
     "metadata": {},
     "output_type": "display_data"
    },
    {
     "name": "stdout",
     "output_type": "stream",
     "text": [
      "Potencia (HP)\n"
     ]
    },
    {
     "data": {
      "image/png": "[encoded data removed]",
      "text/plain": [
       "<Figure size 640x480 with 1 Axes>"
      ]
     },
     "metadata": {},
     "output_type": "display_data"
    },
    {
     "name": "stdout",
     "output_type": "stream",
     "text": [
      "Tamaño (L)\n"
     ]
    },
    {
     "data": {
      "image/png": "[encoded data removed]",
      "text/plain": [
       "<Figure size 640x480 with 1 Axes>"
      ]
     },
     "metadata": {},
     "output_type": "display_data"
    },
    {
     "name": "stdout",
     "output_type": "stream",
     "text": [
      "R. Ciudad (km/l)\n"
     ]
    },
    {
     "data": {
      "image/png": "[encoded data removed]",
      "text/plain": [
       "<Figure size 640x480 with 1 Axes>"
      ]
     },
     "metadata": {},
     "output_type": "display_data"
    },
    {
     "name": "stdout",
     "output_type": "stream",
     "text": [
      "R. Carr. (km/l)\n"
     ]
    },
    {
     "data": {
      "image/png": "[encoded data removed]",
      "text/plain": [
       "<Figure size 640x480 with 1 Axes>"
      ]
     },
     "metadata": {},
     "output_type": "display_data"
    },
    {
     "name": "stdout",
     "output_type": "stream",
     "text": [
      "R. Comb. (km/l)\n"
     ]
    },
    {
     "data": {
      "image/png": "[encoded data removed]",
      "text/plain": [
       "<Figure size 640x480 with 1 Axes>"
      ]
     },
     "metadata": {},
     "output_type": "display_data"
    },
    {
     "name": "stdout",
     "output_type": "stream",
     "text": [
      "R. Ajust. (km/l)\n"
     ]
    },
    {
     "data": {
      "image/png": "[encoded data removed]",
      "text/plain": [
       "<Figure size 640x480 with 1 Axes>"
      ]
     },
     "metadata": {},
     "output_type": "display_data"
    },
    {
     "name": "stdout",
     "output_type": "stream",
     "text": [
      "CO2(g/km)\n"
     ]
    },
    {
     "data": {
      "image/png": "[encoded data removed]",
      "text/plain": [
       "<Figure size 640x480 with 1 Axes>"
      ]
     },
     "metadata": {},
     "output_type": "display_data"
    },
    {
     "name": "stdout",
     "output_type": "stream",
     "text": [
      "NOx (g/1000km)\n"
     ]
    },
    {
     "data": {
      "image/png": "[encoded data removed]",
      "text/plain": [
       "<Figure size 640x480 with 1 Axes>"
      ]
     },
     "metadata": {},
     "output_type": "display_data"
    },
    {
     "name": "stdout",
     "output_type": "stream",
     "text": [
      "Calificación Gas Ef. Inv.\n"
     ]
    },
    {
     "data": {
      "image/png": "[encoded data removed]",
      "text/plain": [
       "<Figure size 640x480 with 1 Axes>"
      ]
     },
     "metadata": {},
     "output_type": "display_data"
    },
    {
     "name": "stdout",
     "output_type": "stream",
     "text": [
      "Hibrido\n"
     ]
    },
    {
     "data": {
      "image/png": "[encoded data removed]",
      "text/plain": [
       "<Figure size 640x480 with 1 Axes>"
      ]
     },
     "metadata": {},
     "output_type": "display_data"
    },
    {
     "name": "stdout",
     "output_type": "stream",
     "text": [
      "Marca_Mean_Encoded\n"
     ]
    },
    {
     "data": {
      "image/png": "[encoded data removed]",
      "text/plain": [
       "<Figure size 640x480 with 1 Axes>"
      ]
     },
     "metadata": {},
     "output_type": "display_data"
    },
    {
     "name": "stdout",
     "output_type": "stream",
     "text": [
      "Submarca_Mean_Encoded\n"
     ]
    },
    {
     "data": {
      "image/png": "[encoded data removed]",
      "text/plain": [
       "<Figure size 640x480 with 1 Axes>"
      ]
     },
     "metadata": {},
     "output_type": "display_data"
    },
    {
     "name": "stdout",
     "output_type": "stream",
     "text": [
      "Versión_Mean_Encoded\n"
     ]
    },
    {
     "data": {
      "image/png": "[encoded data removed]",
      "text/plain": [
       "<Figure size 640x480 with 1 Axes>"
      ]
     },
     "metadata": {},
     "output_type": "display_data"
    },
    {
     "name": "stdout",
     "output_type": "stream",
     "text": [
      "Trans._Mean_Encoded\n"
     ]
    },
    {
     "data": {
      "image/png": "[encoded data removed]",
      "text/plain": [
       "<Figure size 640x480 with 1 Axes>"
      ]
     },
     "metadata": {},
     "output_type": "display_data"
    },
    {
     "name": "stdout",
     "output_type": "stream",
     "text": [
      "Comb._Mean_Encoded\n"
     ]
    },
    {
     "data": {
      "image/png": "[encoded data removed]",
      "text/plain": [
       "<Figure size 640x480 with 1 Axes>"
      ]
     },
     "metadata": {},
     "output_type": "display_data"
    },
    {
     "name": "stdout",
     "output_type": "stream",
     "text": [
      "Categoría_Mean_Encoded\n"
     ]
    },
    {
     "data": {
      "image/png": "[encoded data removed]",
      "text/plain": [
       "<Figure size 640x480 with 1 Axes>"
      ]
     },
     "metadata": {},
     "output_type": "display_data"
    }
   ],
   "source": [
    "# Presenta tus resultados gráficamente\n",
    "\n",
    "# Se grafican los histogramas de cada una de las variables para confirmar que no tienen la forma de una curva normal.\n",
    "\n",
    "# histogram plot\n",
    "from matplotlib import pyplot\n",
    "\n",
    "for columna in df_proc:\n",
    "    # histogram plot\n",
    "    pyplot.hist(df_proc[columna])\n",
    "    print(columna)\n",
    "    pyplot.show()"
   ]
  }
 ],
 "metadata": {
  "kernelspec": {
   "display_name": "Python 3",
   "language": "python",
   "name": "python3"
  },
  "language_info": {
   "codemirror_mode": {
    "name": "ipython",
    "version": 3
   },
   "file_extension": ".py",
   "mimetype": "text/x-python",
   "name": "python",
   "nbconvert_exporter": "python",
   "pygments_lexer": "ipython3",
   "version": "3.12.4"
  }
 },
 "nbformat": 4,
 "nbformat_minor": 2
}
