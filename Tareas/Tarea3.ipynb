{
 "cells": [
  {
   "cell_type": "code",
   "execution_count": 34,
   "metadata": {},
   "outputs": [
    {
     "data": {
      "text/plain": [
       "2.888888888888889"
      ]
     },
     "execution_count": 34,
     "metadata": {},
     "output_type": "execute_result"
    }
   ],
   "source": [
    "####################\n",
    "## Tarea en clase ##\n",
    "####################\n",
    "\n",
    "# Crear funciones para calcular las medidas de tendencia central y de dispersión con Python puro (sin librerías)\n",
    "\n",
    "import statistics\n",
    "\n",
    "# Media\n",
    "def my_mean(X):\n",
    "    suma=0\n",
    "    for x in X:\n",
    "        suma += x\n",
    "    return suma/len(X)\n",
    "    \n",
    "my_mean([1, 1, 2, 2, 2, 3, 4, 5, 6])\n"
   ]
  },
  {
   "cell_type": "code",
   "execution_count": 33,
   "metadata": {},
   "outputs": [
    {
     "data": {
      "text/plain": [
       "2.888888888888889"
      ]
     },
     "execution_count": 33,
     "metadata": {},
     "output_type": "execute_result"
    }
   ],
   "source": [
    "statistics.mean([1, 1, 2, 2, 2, 3, 4, 5, 6])"
   ]
  },
  {
   "cell_type": "code",
   "execution_count": 31,
   "metadata": {},
   "outputs": [
    {
     "data": {
      "text/plain": [
       "2"
      ]
     },
     "execution_count": 31,
     "metadata": {},
     "output_type": "execute_result"
    }
   ],
   "source": [
    "# Mediana\n",
    "def my_median(X):\n",
    "    if len(X) % 2 == 1:\n",
    "        return sorted(X)[int((len(X)-1)/2)]\n",
    "    else:\n",
    "        return my_mean([sorted(X)[int(len(X)/2 - 1)], sorted(X)[int(len(X)/2)]])\n",
    "\n",
    "my_median([1, 1, 2, 2, 2, 3, 4, 5, 6])\n"
   ]
  },
  {
   "cell_type": "code",
   "execution_count": 32,
   "metadata": {},
   "outputs": [
    {
     "data": {
      "text/plain": [
       "2"
      ]
     },
     "execution_count": 32,
     "metadata": {},
     "output_type": "execute_result"
    }
   ],
   "source": [
    "statistics.median([1, 1, 2, 2, 2, 3, 4, 5, 6])"
   ]
  },
  {
   "cell_type": "code",
   "execution_count": 29,
   "metadata": {},
   "outputs": [
    {
     "data": {
      "text/plain": [
       "2"
      ]
     },
     "execution_count": 29,
     "metadata": {},
     "output_type": "execute_result"
    }
   ],
   "source": [
    "# Moda\n",
    "def my_mode(X):\n",
    "    moda = X[0]\n",
    "    contador_max = 1\n",
    "    contador = 1\n",
    "    for i in range(1, len(X)):\n",
    "        if sorted(X)[i]==sorted(X)[i-1]:\n",
    "            contador += 1\n",
    "            if contador > contador_max:\n",
    "                contador_max = contador\n",
    "                moda = sorted(X)[i]\n",
    "        else:\n",
    "            contador = 1\n",
    "    return moda\n",
    "            \n",
    "my_mode([1, 1, 2, 2, 2, 3, 4, 5, 6])"
   ]
  },
  {
   "cell_type": "code",
   "execution_count": 30,
   "metadata": {},
   "outputs": [
    {
     "data": {
      "text/plain": [
       "2"
      ]
     },
     "execution_count": 30,
     "metadata": {},
     "output_type": "execute_result"
    }
   ],
   "source": [
    "statistics.mode([1, 1, 2, 2, 2, 3, 4, 5, 6])"
   ]
  },
  {
   "cell_type": "code",
   "execution_count": 36,
   "metadata": {},
   "outputs": [
    {
     "data": {
      "text/plain": [
       "3.111111111111111"
      ]
     },
     "execution_count": 36,
     "metadata": {},
     "output_type": "execute_result"
    }
   ],
   "source": [
    "# Varianza\n",
    "def my_variance(X):\n",
    "    squared_dev_sum = 0\n",
    "    for x in X:\n",
    "        squared_dev_sum += (x - my_mean(X))**2\n",
    "    return squared_dev_sum/(len(X)-1)\n",
    "\n",
    "my_variance([1, 1, 2, 2, 2, 3, 4, 5, 6])"
   ]
  },
  {
   "cell_type": "code",
   "execution_count": 37,
   "metadata": {},
   "outputs": [
    {
     "data": {
      "text/plain": [
       "3.111111111111111"
      ]
     },
     "execution_count": 37,
     "metadata": {},
     "output_type": "execute_result"
    }
   ],
   "source": [
    "statistics.variance([1, 1, 2, 2, 2, 3, 4, 5, 6])"
   ]
  },
  {
   "cell_type": "code",
   "execution_count": 38,
   "metadata": {},
   "outputs": [
    {
     "data": {
      "text/plain": [
       "1.7638342073763937"
      ]
     },
     "execution_count": 38,
     "metadata": {},
     "output_type": "execute_result"
    }
   ],
   "source": [
    "# Desviación Estándar\n",
    "def my_sd(X):\n",
    "    return (my_variance(X))**0.5\n",
    "\n",
    "my_sd([1, 1, 2, 2, 2, 3, 4, 5, 6])"
   ]
  },
  {
   "cell_type": "code",
   "execution_count": 39,
   "metadata": {},
   "outputs": [
    {
     "data": {
      "text/plain": [
       "1.7638342073763937"
      ]
     },
     "execution_count": 39,
     "metadata": {},
     "output_type": "execute_result"
    }
   ],
   "source": [
    "statistics.stdev([1, 1, 2, 2, 2, 3, 4, 5, 6])"
   ]
  },
  {
   "cell_type": "code",
   "execution_count": 27,
   "metadata": {},
   "outputs": [
    {
     "name": "stdout",
     "output_type": "stream",
     "text": [
      "Modelo\n",
      "Statistics=0.922, p=0.000\n",
      "Sample does not look Gaussian (reject H0)\n",
      "\n",
      "Cilindros\n",
      "Statistics=0.755, p=0.000\n",
      "Sample does not look Gaussian (reject H0)\n",
      "\n",
      "Potencia (HP)\n",
      "Statistics=0.920, p=0.000\n",
      "Sample does not look Gaussian (reject H0)\n",
      "\n",
      "Tamaño (L)\n",
      "Statistics=0.893, p=0.000\n",
      "Sample does not look Gaussian (reject H0)\n",
      "\n",
      "R. Ciudad (km/l)\n",
      "Statistics=0.982, p=0.000\n",
      "Sample does not look Gaussian (reject H0)\n",
      "\n",
      "R. Carr. (km/l)\n",
      "Statistics=0.992, p=0.000\n",
      "Sample does not look Gaussian (reject H0)\n",
      "\n",
      "R. Comb. (km/l)\n",
      "Statistics=0.986, p=0.000\n",
      "Sample does not look Gaussian (reject H0)\n",
      "\n",
      "R. Ajust. (km/l)\n",
      "Statistics=0.986, p=0.000\n",
      "Sample does not look Gaussian (reject H0)\n",
      "\n",
      "CO2(g/km)\n",
      "Statistics=0.936, p=0.000\n",
      "Sample does not look Gaussian (reject H0)\n",
      "\n",
      "NOx (g/1000km)\n",
      "Statistics=0.394, p=0.000\n",
      "Sample does not look Gaussian (reject H0)\n",
      "\n",
      "Calificación Gas Ef. Inv.\n",
      "Statistics=0.937, p=0.000\n",
      "Sample does not look Gaussian (reject H0)\n",
      "\n"
     ]
    }
   ],
   "source": [
    "# Comprueba si tus variables de interés son conjuntos de datos paramétricos o no paramétricos\n",
    "\n",
    "# Realizamos la prueba de Shapiro para revisar normalidad en los datos.\n",
    "\n",
    "# Se crea dataframe sólo con campos numéricos.\n",
    "import pandas as pd\n",
    "import numpy as np\n",
    "df = pd.read_csv('datos.csv')\n",
    "df_numeric = df.select_dtypes(include=np.number)\n",
    "df_num = df_numeric.drop(columns=['index'])\n",
    "df_num = df_num.apply(pd.to_numeric)\n",
    "\n",
    "\n",
    "# Shapiro-Wilk Test\n",
    "from scipy.stats import shapiro\n",
    "\n",
    "# normality test\n",
    "for columna in df_num:\n",
    "\tstat, p = shapiro(df_num[columna])\n",
    "\tprint(columna)\n",
    "\tprint('Statistics=%.3f, p=%.3f' % (stat, p))\n",
    "\t# interpret\n",
    "\talpha = 0.05\n",
    "\tif p > alpha:\n",
    "\t\tprint('Sample looks Gaussian (fail to reject H0)')\n",
    "\telse:\n",
    "\t\tprint('Sample does not look Gaussian (reject H0)')\n",
    "\tprint('')\n",
    "\n",
    "\n",
    "# Se llega a la conclusión de que ninguna de las variables presenta normalidad, por lo que todas las variables son no paramétricas."
   ]
  },
  {
   "cell_type": "code",
   "execution_count": 18,
   "metadata": {},
   "outputs": [
    {
     "data": {
      "text/html": [
       "<div>\n",
       "<style scoped>\n",
       "    .dataframe tbody tr th:only-of-type {\n",
       "        vertical-align: middle;\n",
       "    }\n",
       "\n",
       "    .dataframe tbody tr th {\n",
       "        vertical-align: top;\n",
       "    }\n",
       "\n",
       "    .dataframe thead th {\n",
       "        text-align: right;\n",
       "    }\n",
       "</style>\n",
       "<table border=\"1\" class=\"dataframe\">\n",
       "  <thead>\n",
       "    <tr style=\"text-align: right;\">\n",
       "      <th></th>\n",
       "      <th>index</th>\n",
       "      <th>Modelo</th>\n",
       "      <th>Cilindros</th>\n",
       "      <th>Potencia (HP)</th>\n",
       "      <th>Tamaño (L)</th>\n",
       "      <th>R. Ciudad (km/l)</th>\n",
       "      <th>R. Carr. (km/l)</th>\n",
       "      <th>R. Comb. (km/l)</th>\n",
       "      <th>R. Ajust. (km/l)</th>\n",
       "      <th>CO2(g/km)</th>\n",
       "      <th>NOx (g/1000km)</th>\n",
       "      <th>Calificación Gas Ef. Inv.</th>\n",
       "    </tr>\n",
       "  </thead>\n",
       "  <tbody>\n",
       "    <tr>\n",
       "      <th>count</th>\n",
       "      <td>4617.000000</td>\n",
       "      <td>4617.000000</td>\n",
       "      <td>4617.000000</td>\n",
       "      <td>4617.000000</td>\n",
       "      <td>4617.000000</td>\n",
       "      <td>4617.000000</td>\n",
       "      <td>4617.000000</td>\n",
       "      <td>4617.000000</td>\n",
       "      <td>4617.000000</td>\n",
       "      <td>4617.00000</td>\n",
       "      <td>4617.000000</td>\n",
       "      <td>4617.000000</td>\n",
       "    </tr>\n",
       "    <tr>\n",
       "      <th>mean</th>\n",
       "      <td>2308.000000</td>\n",
       "      <td>2014.187351</td>\n",
       "      <td>5.329218</td>\n",
       "      <td>254.991553</td>\n",
       "      <td>2.869923</td>\n",
       "      <td>10.604934</td>\n",
       "      <td>16.612749</td>\n",
       "      <td>13.183803</td>\n",
       "      <td>9.887754</td>\n",
       "      <td>256.53368</td>\n",
       "      <td>30.803552</td>\n",
       "      <td>4.885207</td>\n",
       "    </tr>\n",
       "    <tr>\n",
       "      <th>std</th>\n",
       "      <td>1332.957426</td>\n",
       "      <td>2.162132</td>\n",
       "      <td>1.800226</td>\n",
       "      <td>132.791017</td>\n",
       "      <td>1.347559</td>\n",
       "      <td>3.285876</td>\n",
       "      <td>4.186279</td>\n",
       "      <td>3.603346</td>\n",
       "      <td>2.702537</td>\n",
       "      <td>75.57912</td>\n",
       "      <td>56.901643</td>\n",
       "      <td>2.484840</td>\n",
       "    </tr>\n",
       "    <tr>\n",
       "      <th>min</th>\n",
       "      <td>0.000000</td>\n",
       "      <td>2011.000000</td>\n",
       "      <td>3.000000</td>\n",
       "      <td>60.000000</td>\n",
       "      <td>0.898000</td>\n",
       "      <td>3.100000</td>\n",
       "      <td>6.700000</td>\n",
       "      <td>4.960000</td>\n",
       "      <td>3.720000</td>\n",
       "      <td>107.00000</td>\n",
       "      <td>0.000000</td>\n",
       "      <td>0.000000</td>\n",
       "    </tr>\n",
       "    <tr>\n",
       "      <th>25%</th>\n",
       "      <td>1154.000000</td>\n",
       "      <td>2012.000000</td>\n",
       "      <td>4.000000</td>\n",
       "      <td>150.000000</td>\n",
       "      <td>1.800000</td>\n",
       "      <td>8.200000</td>\n",
       "      <td>13.480000</td>\n",
       "      <td>10.460000</td>\n",
       "      <td>7.850000</td>\n",
       "      <td>200.00000</td>\n",
       "      <td>10.000000</td>\n",
       "      <td>3.000000</td>\n",
       "    </tr>\n",
       "    <tr>\n",
       "      <th>50%</th>\n",
       "      <td>2308.000000</td>\n",
       "      <td>2014.000000</td>\n",
       "      <td>4.000000</td>\n",
       "      <td>220.000000</td>\n",
       "      <td>2.500000</td>\n",
       "      <td>10.420000</td>\n",
       "      <td>16.390000</td>\n",
       "      <td>12.870000</td>\n",
       "      <td>9.650000</td>\n",
       "      <td>243.00000</td>\n",
       "      <td>17.000000</td>\n",
       "      <td>5.000000</td>\n",
       "    </tr>\n",
       "    <tr>\n",
       "      <th>75%</th>\n",
       "      <td>3462.000000</td>\n",
       "      <td>2016.000000</td>\n",
       "      <td>6.000000</td>\n",
       "      <td>330.000000</td>\n",
       "      <td>3.600000</td>\n",
       "      <td>12.810000</td>\n",
       "      <td>19.600000</td>\n",
       "      <td>15.610000</td>\n",
       "      <td>11.710000</td>\n",
       "      <td>299.00000</td>\n",
       "      <td>28.000000</td>\n",
       "      <td>7.000000</td>\n",
       "    </tr>\n",
       "    <tr>\n",
       "      <th>max</th>\n",
       "      <td>4616.000000</td>\n",
       "      <td>2018.000000</td>\n",
       "      <td>12.000000</td>\n",
       "      <td>888.000000</td>\n",
       "      <td>8.400000</td>\n",
       "      <td>27.460000</td>\n",
       "      <td>31.300000</td>\n",
       "      <td>28.930000</td>\n",
       "      <td>21.700000</td>\n",
       "      <td>627.00000</td>\n",
       "      <td>724.000000</td>\n",
       "      <td>10.000000</td>\n",
       "    </tr>\n",
       "  </tbody>\n",
       "</table>\n",
       "</div>"
      ],
      "text/plain": [
       "             index       Modelo    Cilindros  Potencia (HP)   Tamaño (L)  \\\n",
       "count  4617.000000  4617.000000  4617.000000    4617.000000  4617.000000   \n",
       "mean   2308.000000  2014.187351     5.329218     254.991553     2.869923   \n",
       "std    1332.957426     2.162132     1.800226     132.791017     1.347559   \n",
       "min       0.000000  2011.000000     3.000000      60.000000     0.898000   \n",
       "25%    1154.000000  2012.000000     4.000000     150.000000     1.800000   \n",
       "50%    2308.000000  2014.000000     4.000000     220.000000     2.500000   \n",
       "75%    3462.000000  2016.000000     6.000000     330.000000     3.600000   \n",
       "max    4616.000000  2018.000000    12.000000     888.000000     8.400000   \n",
       "\n",
       "       R. Ciudad (km/l)  R. Carr. (km/l)  R. Comb. (km/l)  R. Ajust. (km/l)  \\\n",
       "count       4617.000000      4617.000000      4617.000000       4617.000000   \n",
       "mean          10.604934        16.612749        13.183803          9.887754   \n",
       "std            3.285876         4.186279         3.603346          2.702537   \n",
       "min            3.100000         6.700000         4.960000          3.720000   \n",
       "25%            8.200000        13.480000        10.460000          7.850000   \n",
       "50%           10.420000        16.390000        12.870000          9.650000   \n",
       "75%           12.810000        19.600000        15.610000         11.710000   \n",
       "max           27.460000        31.300000        28.930000         21.700000   \n",
       "\n",
       "        CO2(g/km)  NOx (g/1000km)  Calificación Gas Ef. Inv.  \n",
       "count  4617.00000     4617.000000                4617.000000  \n",
       "mean    256.53368       30.803552                   4.885207  \n",
       "std      75.57912       56.901643                   2.484840  \n",
       "min     107.00000        0.000000                   0.000000  \n",
       "25%     200.00000       10.000000                   3.000000  \n",
       "50%     243.00000       17.000000                   5.000000  \n",
       "75%     299.00000       28.000000                   7.000000  \n",
       "max     627.00000      724.000000                  10.000000  "
      ]
     },
     "execution_count": 18,
     "metadata": {},
     "output_type": "execute_result"
    }
   ],
   "source": [
    "#############\n",
    "## Tarea 3 ##\n",
    "#############\n",
    "\n",
    "# Calcula estadísticos descriptivos básicos para tus datos.\n",
    "\n",
    "df.describe()"
   ]
  },
  {
   "cell_type": "code",
   "execution_count": 26,
   "metadata": {},
   "outputs": [
    {
     "data": {
      "text/html": [
       "<div>\n",
       "<style scoped>\n",
       "    .dataframe tbody tr th:only-of-type {\n",
       "        vertical-align: middle;\n",
       "    }\n",
       "\n",
       "    .dataframe tbody tr th {\n",
       "        vertical-align: top;\n",
       "    }\n",
       "\n",
       "    .dataframe thead th {\n",
       "        text-align: right;\n",
       "    }\n",
       "</style>\n",
       "<table border=\"1\" class=\"dataframe\">\n",
       "  <thead>\n",
       "    <tr style=\"text-align: right;\">\n",
       "      <th></th>\n",
       "      <th>index</th>\n",
       "      <th>Modelo</th>\n",
       "      <th>Cilindros</th>\n",
       "      <th>Potencia (HP)</th>\n",
       "      <th>Tamaño (L)</th>\n",
       "      <th>R. Ciudad (km/l)</th>\n",
       "      <th>R. Carr. (km/l)</th>\n",
       "      <th>R. Comb. (km/l)</th>\n",
       "      <th>R. Ajust. (km/l)</th>\n",
       "      <th>CO2(g/km)</th>\n",
       "      <th>NOx (g/1000km)</th>\n",
       "      <th>Calificación Gas Ef. Inv.</th>\n",
       "    </tr>\n",
       "  </thead>\n",
       "  <tbody>\n",
       "    <tr>\n",
       "      <th>index</th>\n",
       "      <td>1.000000</td>\n",
       "      <td>-0.075911</td>\n",
       "      <td>0.232569</td>\n",
       "      <td>0.157531</td>\n",
       "      <td>0.291899</td>\n",
       "      <td>-0.354533</td>\n",
       "      <td>-0.445946</td>\n",
       "      <td>-0.389319</td>\n",
       "      <td>-0.389324</td>\n",
       "      <td>0.417356</td>\n",
       "      <td>0.150189</td>\n",
       "      <td>-0.441216</td>\n",
       "    </tr>\n",
       "    <tr>\n",
       "      <th>Modelo</th>\n",
       "      <td>-0.075911</td>\n",
       "      <td>1.000000</td>\n",
       "      <td>-0.086090</td>\n",
       "      <td>0.031713</td>\n",
       "      <td>-0.107840</td>\n",
       "      <td>0.276963</td>\n",
       "      <td>0.275443</td>\n",
       "      <td>0.277631</td>\n",
       "      <td>0.277600</td>\n",
       "      <td>-0.271247</td>\n",
       "      <td>-0.035411</td>\n",
       "      <td>0.268483</td>\n",
       "    </tr>\n",
       "    <tr>\n",
       "      <th>Cilindros</th>\n",
       "      <td>0.232569</td>\n",
       "      <td>-0.086090</td>\n",
       "      <td>1.000000</td>\n",
       "      <td>0.871348</td>\n",
       "      <td>0.916349</td>\n",
       "      <td>-0.714183</td>\n",
       "      <td>-0.688890</td>\n",
       "      <td>-0.727857</td>\n",
       "      <td>-0.727901</td>\n",
       "      <td>0.800239</td>\n",
       "      <td>-0.084007</td>\n",
       "      <td>-0.774895</td>\n",
       "    </tr>\n",
       "    <tr>\n",
       "      <th>Potencia (HP)</th>\n",
       "      <td>0.157531</td>\n",
       "      <td>0.031713</td>\n",
       "      <td>0.871348</td>\n",
       "      <td>1.000000</td>\n",
       "      <td>0.866862</td>\n",
       "      <td>-0.713813</td>\n",
       "      <td>-0.681128</td>\n",
       "      <td>-0.728198</td>\n",
       "      <td>-0.728250</td>\n",
       "      <td>0.737591</td>\n",
       "      <td>-0.137597</td>\n",
       "      <td>-0.733530</td>\n",
       "    </tr>\n",
       "    <tr>\n",
       "      <th>Tamaño (L)</th>\n",
       "      <td>0.291899</td>\n",
       "      <td>-0.107840</td>\n",
       "      <td>0.916349</td>\n",
       "      <td>0.866862</td>\n",
       "      <td>1.000000</td>\n",
       "      <td>-0.761904</td>\n",
       "      <td>-0.750172</td>\n",
       "      <td>-0.791193</td>\n",
       "      <td>-0.791228</td>\n",
       "      <td>0.835417</td>\n",
       "      <td>-0.079683</td>\n",
       "      <td>-0.835165</td>\n",
       "    </tr>\n",
       "    <tr>\n",
       "      <th>R. Ciudad (km/l)</th>\n",
       "      <td>-0.354533</td>\n",
       "      <td>0.276963</td>\n",
       "      <td>-0.714183</td>\n",
       "      <td>-0.713813</td>\n",
       "      <td>-0.761904</td>\n",
       "      <td>1.000000</td>\n",
       "      <td>0.910186</td>\n",
       "      <td>0.970475</td>\n",
       "      <td>0.970458</td>\n",
       "      <td>-0.900064</td>\n",
       "      <td>0.025777</td>\n",
       "      <td>0.918694</td>\n",
       "    </tr>\n",
       "    <tr>\n",
       "      <th>R. Carr. (km/l)</th>\n",
       "      <td>-0.445946</td>\n",
       "      <td>0.275443</td>\n",
       "      <td>-0.688890</td>\n",
       "      <td>-0.681128</td>\n",
       "      <td>-0.750172</td>\n",
       "      <td>0.910186</td>\n",
       "      <td>1.000000</td>\n",
       "      <td>0.950771</td>\n",
       "      <td>0.950757</td>\n",
       "      <td>-0.906837</td>\n",
       "      <td>-0.036930</td>\n",
       "      <td>0.924466</td>\n",
       "    </tr>\n",
       "    <tr>\n",
       "      <th>R. Comb. (km/l)</th>\n",
       "      <td>-0.389319</td>\n",
       "      <td>0.277631</td>\n",
       "      <td>-0.727857</td>\n",
       "      <td>-0.728198</td>\n",
       "      <td>-0.791193</td>\n",
       "      <td>0.970475</td>\n",
       "      <td>0.950771</td>\n",
       "      <td>1.000000</td>\n",
       "      <td>0.999999</td>\n",
       "      <td>-0.930422</td>\n",
       "      <td>0.050278</td>\n",
       "      <td>0.948936</td>\n",
       "    </tr>\n",
       "    <tr>\n",
       "      <th>R. Ajust. (km/l)</th>\n",
       "      <td>-0.389324</td>\n",
       "      <td>0.277600</td>\n",
       "      <td>-0.727901</td>\n",
       "      <td>-0.728250</td>\n",
       "      <td>-0.791228</td>\n",
       "      <td>0.970458</td>\n",
       "      <td>0.950757</td>\n",
       "      <td>0.999999</td>\n",
       "      <td>1.000000</td>\n",
       "      <td>-0.930443</td>\n",
       "      <td>0.050300</td>\n",
       "      <td>0.948948</td>\n",
       "    </tr>\n",
       "    <tr>\n",
       "      <th>CO2(g/km)</th>\n",
       "      <td>0.417356</td>\n",
       "      <td>-0.271247</td>\n",
       "      <td>0.800239</td>\n",
       "      <td>0.737591</td>\n",
       "      <td>0.835417</td>\n",
       "      <td>-0.900064</td>\n",
       "      <td>-0.906837</td>\n",
       "      <td>-0.930422</td>\n",
       "      <td>-0.930443</td>\n",
       "      <td>1.000000</td>\n",
       "      <td>0.021402</td>\n",
       "      <td>-0.962379</td>\n",
       "    </tr>\n",
       "    <tr>\n",
       "      <th>NOx (g/1000km)</th>\n",
       "      <td>0.150189</td>\n",
       "      <td>-0.035411</td>\n",
       "      <td>-0.084007</td>\n",
       "      <td>-0.137597</td>\n",
       "      <td>-0.079683</td>\n",
       "      <td>0.025777</td>\n",
       "      <td>-0.036930</td>\n",
       "      <td>0.050278</td>\n",
       "      <td>0.050300</td>\n",
       "      <td>0.021402</td>\n",
       "      <td>1.000000</td>\n",
       "      <td>-0.028954</td>\n",
       "    </tr>\n",
       "    <tr>\n",
       "      <th>Calificación Gas Ef. Inv.</th>\n",
       "      <td>-0.441216</td>\n",
       "      <td>0.268483</td>\n",
       "      <td>-0.774895</td>\n",
       "      <td>-0.733530</td>\n",
       "      <td>-0.835165</td>\n",
       "      <td>0.918694</td>\n",
       "      <td>0.924466</td>\n",
       "      <td>0.948936</td>\n",
       "      <td>0.948948</td>\n",
       "      <td>-0.962379</td>\n",
       "      <td>-0.028954</td>\n",
       "      <td>1.000000</td>\n",
       "    </tr>\n",
       "  </tbody>\n",
       "</table>\n",
       "</div>"
      ],
      "text/plain": [
       "                              index    Modelo  Cilindros  Potencia (HP)  \\\n",
       "index                      1.000000 -0.075911   0.232569       0.157531   \n",
       "Modelo                    -0.075911  1.000000  -0.086090       0.031713   \n",
       "Cilindros                  0.232569 -0.086090   1.000000       0.871348   \n",
       "Potencia (HP)              0.157531  0.031713   0.871348       1.000000   \n",
       "Tamaño (L)                 0.291899 -0.107840   0.916349       0.866862   \n",
       "R. Ciudad (km/l)          -0.354533  0.276963  -0.714183      -0.713813   \n",
       "R. Carr. (km/l)           -0.445946  0.275443  -0.688890      -0.681128   \n",
       "R. Comb. (km/l)           -0.389319  0.277631  -0.727857      -0.728198   \n",
       "R. Ajust. (km/l)          -0.389324  0.277600  -0.727901      -0.728250   \n",
       "CO2(g/km)                  0.417356 -0.271247   0.800239       0.737591   \n",
       "NOx (g/1000km)             0.150189 -0.035411  -0.084007      -0.137597   \n",
       "Calificación Gas Ef. Inv. -0.441216  0.268483  -0.774895      -0.733530   \n",
       "\n",
       "                           Tamaño (L)  R. Ciudad (km/l)  R. Carr. (km/l)  \\\n",
       "index                        0.291899         -0.354533        -0.445946   \n",
       "Modelo                      -0.107840          0.276963         0.275443   \n",
       "Cilindros                    0.916349         -0.714183        -0.688890   \n",
       "Potencia (HP)                0.866862         -0.713813        -0.681128   \n",
       "Tamaño (L)                   1.000000         -0.761904        -0.750172   \n",
       "R. Ciudad (km/l)            -0.761904          1.000000         0.910186   \n",
       "R. Carr. (km/l)             -0.750172          0.910186         1.000000   \n",
       "R. Comb. (km/l)             -0.791193          0.970475         0.950771   \n",
       "R. Ajust. (km/l)            -0.791228          0.970458         0.950757   \n",
       "CO2(g/km)                    0.835417         -0.900064        -0.906837   \n",
       "NOx (g/1000km)              -0.079683          0.025777        -0.036930   \n",
       "Calificación Gas Ef. Inv.   -0.835165          0.918694         0.924466   \n",
       "\n",
       "                           R. Comb. (km/l)  R. Ajust. (km/l)  CO2(g/km)  \\\n",
       "index                            -0.389319         -0.389324   0.417356   \n",
       "Modelo                            0.277631          0.277600  -0.271247   \n",
       "Cilindros                        -0.727857         -0.727901   0.800239   \n",
       "Potencia (HP)                    -0.728198         -0.728250   0.737591   \n",
       "Tamaño (L)                       -0.791193         -0.791228   0.835417   \n",
       "R. Ciudad (km/l)                  0.970475          0.970458  -0.900064   \n",
       "R. Carr. (km/l)                   0.950771          0.950757  -0.906837   \n",
       "R. Comb. (km/l)                   1.000000          0.999999  -0.930422   \n",
       "R. Ajust. (km/l)                  0.999999          1.000000  -0.930443   \n",
       "CO2(g/km)                        -0.930422         -0.930443   1.000000   \n",
       "NOx (g/1000km)                    0.050278          0.050300   0.021402   \n",
       "Calificación Gas Ef. Inv.         0.948936          0.948948  -0.962379   \n",
       "\n",
       "                           NOx (g/1000km)  Calificación Gas Ef. Inv.  \n",
       "index                            0.150189                  -0.441216  \n",
       "Modelo                          -0.035411                   0.268483  \n",
       "Cilindros                       -0.084007                  -0.774895  \n",
       "Potencia (HP)                   -0.137597                  -0.733530  \n",
       "Tamaño (L)                      -0.079683                  -0.835165  \n",
       "R. Ciudad (km/l)                 0.025777                   0.918694  \n",
       "R. Carr. (km/l)                 -0.036930                   0.924466  \n",
       "R. Comb. (km/l)                  0.050278                   0.948936  \n",
       "R. Ajust. (km/l)                 0.050300                   0.948948  \n",
       "CO2(g/km)                        0.021402                  -0.962379  \n",
       "NOx (g/1000km)                   1.000000                  -0.028954  \n",
       "Calificación Gas Ef. Inv.       -0.028954                   1.000000  "
      ]
     },
     "execution_count": 26,
     "metadata": {},
     "output_type": "execute_result"
    }
   ],
   "source": [
    "# Haz una matriz de correlación de tus datos y escribe algunas interpretaciones de la misma.\n",
    "\n",
    "import numpy as np\n",
    "\n",
    "df_numeric.corr()"
   ]
  },
  {
   "cell_type": "code",
   "execution_count": 1,
   "metadata": {},
   "outputs": [],
   "source": [
    "# INTERPRETACIONES:\n",
    "\n",
    "# Contrario a lo que esperaba de que las emisiones de CO2(g/km) y de NOx (g/1000km) tuvieran una correlación positiva fuerte, en realidad \n",
    "# tienen una correlación cercana a cero, con lo que se podría concluir que las emisiones de CO2 de un vehículo no se relaciona con sus emisiones de NOx.\n",
    "\n",
    "# El par de variables con mayor correlación positiva de casi 1 son Rendimiento Combinado (km/l) y Rendimiento Ajustado (km/l), lo cual sí me hace sentido y podría evidenciar que \n",
    "# estas variables aportan la misma información al modelo y se podría eliminar alguna de las dos.\n",
    "\n",
    "# El par de variables con mayor correlación negativa de -0.96 son las emisiones de CO2 y la Calificación de Gas Ef. Inv., lo cual sí me hace sentido ya que entre menor sean las \n",
    "# cantidades de emisión de CO2 de los vehículos mayor va a ser su Calificación de Gas de Efecto Invernadero."
   ]
  },
  {
   "cell_type": "code",
   "execution_count": 28,
   "metadata": {},
   "outputs": [
    {
     "name": "stdout",
     "output_type": "stream",
     "text": [
      "CO2(g/km) and NOx (g/1000km)\n",
      "stat=0.033, p=0.027\n",
      "Probably dependent\n",
      "\n",
      "R. Comb. (km/l) and R. Ajust. (km/l)\n",
      "stat=1.000, p=0.000\n",
      "Probably dependent\n",
      "\n",
      "CO2(g/km) and Calificación Gas Ef. Inv.\n",
      "stat=-0.992, p=0.000\n",
      "Probably dependent\n",
      "\n"
     ]
    }
   ],
   "source": [
    "# Realiza alguna prueba de hipótesis a partir de las conclusiones que hayas sacado de la matriz de correlación.\n",
    "\n",
    "# Realizaremos la prueba de Spearman's Rank Correlation para comprobar si los tres pares de variables comentados arriba en realidad tienen una relación monótona.\n",
    "\n",
    "# Example of the Spearman's Rank Correlation Test\n",
    "from scipy.stats import spearmanr\n",
    "\n",
    "print('CO2(g/km) and NOx (g/1000km)')\n",
    "stat, p = spearmanr(df_num['CO2(g/km)'], df_num['NOx (g/1000km)'])\n",
    "print('stat=%.3f, p=%.3f' % (stat, p))\n",
    "if p > 0.05:\n",
    "\tprint('Probably independent')\n",
    "else:\n",
    "\tprint('Probably dependent')\n",
    "print('')\n",
    "\n",
    "print('R. Comb. (km/l) and R. Ajust. (km/l)')\n",
    "stat, p = spearmanr(df_num['R. Comb. (km/l)'], df_num['R. Ajust. (km/l)'])\n",
    "print('stat=%.3f, p=%.3f' % (stat, p))\n",
    "if p > 0.05:\n",
    "\tprint('Probably independent')\n",
    "else:\n",
    "\tprint('Probably dependent')\n",
    "print('')\n",
    "\n",
    "print('CO2(g/km) and Calificación Gas Ef. Inv.')\n",
    "stat, p = spearmanr(df_num['CO2(g/km)'], df_num['Calificación Gas Ef. Inv.'])\n",
    "print('stat=%.3f, p=%.3f' % (stat, p))\n",
    "if p > 0.05:\n",
    "\tprint('Probably independent')\n",
    "else:\n",
    "\tprint('Probably dependent')\n",
    "print('')\n",
    "\n",
    "# Se llega a la conclusión de que los tres pares de variables son dependientes. Sin embargo para la primera pruba de CO2 y NOx con una significancia del 1% \n",
    "# se podría afirmar que las variables son independientes."
   ]
  },
  {
   "cell_type": "code",
   "execution_count": 31,
   "metadata": {},
   "outputs": [
    {
     "name": "stdout",
     "output_type": "stream",
     "text": [
      "Modelo\n"
     ]
    },
    {
     "data": {
      "image/png": "[encoded data removed]",
      "text/plain": [
       "<Figure size 640x480 with 1 Axes>"
      ]
     },
     "metadata": {},
     "output_type": "display_data"
    },
    {
     "name": "stdout",
     "output_type": "stream",
     "text": [
      "Cilindros\n"
     ]
    },
    {
     "data": {
      "image/png": "[encoded data removed]",
      "text/plain": [
       "<Figure size 640x480 with 1 Axes>"
      ]
     },
     "metadata": {},
     "output_type": "display_data"
    },
    {
     "name": "stdout",
     "output_type": "stream",
     "text": [
      "Potencia (HP)\n"
     ]
    },
    {
     "data": {
      "image/png": "[encoded data removed]",
      "text/plain": [
       "<Figure size 640x480 with 1 Axes>"
      ]
     },
     "metadata": {},
     "output_type": "display_data"
    },
    {
     "name": "stdout",
     "output_type": "stream",
     "text": [
      "Tamaño (L)\n"
     ]
    },
    {
     "data": {
      "image/png": "[encoded data removed]",
      "text/plain": [
       "<Figure size 640x480 with 1 Axes>"
      ]
     },
     "metadata": {},
     "output_type": "display_data"
    },
    {
     "name": "stdout",
     "output_type": "stream",
     "text": [
      "R. Ciudad (km/l)\n"
     ]
    },
    {
     "data": {
      "image/png": "[encoded data removed]",
      "text/plain": [
       "<Figure size 640x480 with 1 Axes>"
      ]
     },
     "metadata": {},
     "output_type": "display_data"
    },
    {
     "name": "stdout",
     "output_type": "stream",
     "text": [
      "R. Carr. (km/l)\n"
     ]
    },
    {
     "data": {
      "image/png": "[encoded data removed]",
      "text/plain": [
       "<Figure size 640x480 with 1 Axes>"
      ]
     },
     "metadata": {},
     "output_type": "display_data"
    },
    {
     "name": "stdout",
     "output_type": "stream",
     "text": [
      "R. Comb. (km/l)\n"
     ]
    },
    {
     "data": {
      "image/png": "[encoded data removed]",
      "text/plain": [
       "<Figure size 640x480 with 1 Axes>"
      ]
     },
     "metadata": {},
     "output_type": "display_data"
    },
    {
     "name": "stdout",
     "output_type": "stream",
     "text": [
      "R. Ajust. (km/l)\n"
     ]
    },
    {
     "data": {
      "image/png": "[encoded data removed]",
      "text/plain": [
       "<Figure size 640x480 with 1 Axes>"
      ]
     },
     "metadata": {},
     "output_type": "display_data"
    },
    {
     "name": "stdout",
     "output_type": "stream",
     "text": [
      "CO2(g/km)\n"
     ]
    },
    {
     "data": {
      "image/png": "[encoded data removed]",
      "text/plain": [
       "<Figure size 640x480 with 1 Axes>"
      ]
     },
     "metadata": {},
     "output_type": "display_data"
    },
    {
     "name": "stdout",
     "output_type": "stream",
     "text": [
      "NOx (g/1000km)\n"
     ]
    },
    {
     "data": {
      "image/png": "[encoded data removed]",
      "text/plain": [
       "<Figure size 640x480 with 1 Axes>"
      ]
     },
     "metadata": {},
     "output_type": "display_data"
    },
    {
     "name": "stdout",
     "output_type": "stream",
     "text": [
      "Calificación Gas Ef. Inv.\n"
     ]
    },
    {
     "data": {
      "image/png": "[encoded data removed]",
      "text/plain": [
       "<Figure size 640x480 with 1 Axes>"
      ]
     },
     "metadata": {},
     "output_type": "display_data"
    }
   ],
   "source": [
    "# Presenta tus resultados gráficamente\n",
    "\n",
    "# Se grafican los histogramas de cada una de las variables para confirmar que no tienen la forma de una curva normal.\n",
    "\n",
    "# histogram plot\n",
    "from matplotlib import pyplot\n",
    "\n",
    "for columna in df_num:\n",
    "    # histogram plot\n",
    "    pyplot.hist(df_num[columna])\n",
    "    print(columna)\n",
    "    pyplot.show()"
   ]
  }
 ],
 "metadata": {
  "kernelspec": {
   "display_name": "Python 3",
   "language": "python",
   "name": "python3"
  },
  "language_info": {
   "codemirror_mode": {
    "name": "ipython",
    "version": 3
   },
   "file_extension": ".py",
   "mimetype": "text/x-python",
   "name": "python",
   "nbconvert_exporter": "python",
   "pygments_lexer": "ipython3",
   "version": "3.12.4"
  }
 },
 "nbformat": 4,
 "nbformat_minor": 2
}
